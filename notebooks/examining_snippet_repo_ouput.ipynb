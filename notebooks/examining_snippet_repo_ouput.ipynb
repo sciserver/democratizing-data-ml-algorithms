{
 "cells": [
  {
   "cell_type": "markdown",
   "metadata": {},
   "source": [
    "This notebook looks at the output from the snippet repository\n",
    "and how to use it to train NER, classification, and mlm models."
   ]
  },
  {
   "cell_type": "code",
   "execution_count": 1,
   "metadata": {},
   "outputs": [],
   "source": [
    "from functools import partial\n",
    "from importlib import reload\n",
    "from typing import List\n",
    "\n",
    "import torch\n",
    "from spacy import displacy\n",
    "import democratizing_data_ml_algorithms.data.snippet_repository as sr"
   ]
  },
  {
   "cell_type": "markdown",
   "metadata": {},
   "source": [
    "### Named Enitiy Recognition Models (NER)"
   ]
  },
  {
   "cell_type": "code",
   "execution_count": 2,
   "metadata": {},
   "outputs": [],
   "source": [
    "ner_repo = sr.SnippetRepository(sr.SnippetRepositoryMode.NER)"
   ]
  },
  {
   "cell_type": "code",
   "execution_count": 4,
   "metadata": {},
   "outputs": [],
   "source": [
    "ner_data = ner_repo.get_training_data(batch_size=10)\n",
    "detected = False\n",
    "while not detected:\n",
    "    ner_df = next(ner_data)\n",
    "    detected = any(ner_df['ner_tags'].apply(lambda ner_tags: any(map(lambda t: t!=\"O\", ner_tags))))"
   ]
  },
  {
   "cell_type": "code",
   "execution_count": 5,
   "metadata": {},
   "outputs": [
    {
     "data": {
      "text/html": [
       "<span class=\"tex2jax_ignore\"><div class=\"entities\" style=\"line-height: 2.5; direction: ltr\">Elementary and Secondary Mathematics and Science Education Two States ' Performance on TIMSS : 2007 Massachusetts and Minnesota participated in a special benchmarking study included in the \n",
       "<mark class=\"entity\" style=\"background: linear-gradient(90deg, #aa9cfc, #fc9ce7); padding: 0.45em 0.6em; margin: 0 0.25em; line-height: 1; border-radius: 0.35em;\">\n",
       "    \n",
       "    <span style=\"font-size: 0.8em; font-weight: bold; line-height: 1; border-radius: 0.35em; vertical-align: middle; margin-left: 0.5rem\">Dataset</span>\n",
       "</mark>\n",
       "\n",
       "<mark class=\"entity\" style=\"background: linear-gradient(90deg, #aa9cfc, #fc9ce7); padding: 0.45em 0.6em; margin: 0 0.25em; line-height: 1; border-radius: 0.35em;\">\n",
       "    Trends in International Mathematics and Science Study \n",
       "    <span style=\"font-size: 0.8em; font-weight: bold; line-height: 1; border-radius: 0.35em; vertical-align: middle; margin-left: 0.5rem\">Dataset</span>\n",
       "</mark>\n",
       "( TIMSS ) 2007 , along with three Canadian provinces , the city of Dubai , and one region of Spain .</div></span>"
      ],
      "text/plain": [
       "<IPython.core.display.HTML object>"
      ]
     },
     "metadata": {},
     "output_type": "display_data"
    }
   ],
   "source": [
    "text = ner_df.iloc[9].text\n",
    "ner_tags = ner_df.iloc[9].ner_tags\n",
    "sr.visualize_ner_tags(text, ner_tags)"
   ]
  },
  {
   "cell_type": "code",
   "execution_count": 2,
   "metadata": {},
   "outputs": [],
   "source": [
    "mlm_repo = sr.SnippetRepository(sr.SnippetRepositoryMode.MASKED_LM)"
   ]
  },
  {
   "cell_type": "code",
   "execution_count": 3,
   "metadata": {},
   "outputs": [],
   "source": [
    "mlm_data = mlm_repo.get_training_data(batch_size=10, balance_labels=True)\n",
    "detected = False\n",
    "while not detected:\n",
    "    mlm_df = next(mlm_data)\n",
    "    detected = any(mlm_df['mask'].apply(lambda token_masks: any(token_masks)))"
   ]
  },
  {
   "cell_type": "code",
   "execution_count": 4,
   "metadata": {},
   "outputs": [
    {
     "data": {
      "text/html": [
       "<div>\n",
       "<style scoped>\n",
       "    .dataframe tbody tr th:only-of-type {\n",
       "        vertical-align: middle;\n",
       "    }\n",
       "\n",
       "    .dataframe tbody tr th {\n",
       "        vertical-align: top;\n",
       "    }\n",
       "\n",
       "    .dataframe thead th {\n",
       "        text-align: right;\n",
       "    }\n",
       "</style>\n",
       "<table border=\"1\" class=\"dataframe\">\n",
       "  <thead>\n",
       "    <tr style=\"text-align: right;\">\n",
       "      <th></th>\n",
       "      <th>text</th>\n",
       "      <th>pos_tags</th>\n",
       "      <th>mask</th>\n",
       "      <th>label</th>\n",
       "    </tr>\n",
       "  </thead>\n",
       "  <tbody>\n",
       "    <tr>\n",
       "      <th>0</th>\n",
       "      <td>[However, ,, the, percentages, of, blacks, ear...</td>\n",
       "      <td>[RB, ,, DT, NNS, IN, NNS, VBG, NNP, NN, POS, N...</td>\n",
       "      <td>[False, False, False, False, False, False, Fal...</td>\n",
       "      <td>0</td>\n",
       "    </tr>\n",
       "    <tr>\n",
       "      <th>1</th>\n",
       "      <td>[5b, shows, DeKalb, County, ,, AL, ,, which, i...</td>\n",
       "      <td>[NNP, VBZ, NNP, NNP, ,, NNP, ,, WDT, IN, DT, J...</td>\n",
       "      <td>[False, False, False, False, False, False, Fal...</td>\n",
       "      <td>0</td>\n",
       "    </tr>\n",
       "    <tr>\n",
       "      <th>2</th>\n",
       "      <td>[TIMSS, =, Trends, in, International, Mathemat...</td>\n",
       "      <td>[NNP, IN, NNS, IN, NNP, NNP, CC, NNP, NNP, .]</td>\n",
       "      <td>[False, False, True, True, True, True, True, T...</td>\n",
       "      <td>1</td>\n",
       "    </tr>\n",
       "    <tr>\n",
       "      <th>3</th>\n",
       "      <td>[There, is, only, one, accuracy, for, the, fif...</td>\n",
       "      <td>[EX, VBZ, RB, CD, NN, IN, DT, JJ, NN, IN, DT, ...</td>\n",
       "      <td>[False, False, False, False, False, False, Fal...</td>\n",
       "      <td>0</td>\n",
       "    </tr>\n",
       "    <tr>\n",
       "      <th>4</th>\n",
       "      <td>[x, G, :, Figure, 1, summarizes, the, relation...</td>\n",
       "      <td>[NFP, NN, :, NN, CD, VBZ, DT, NNS, IN, NNS, .]</td>\n",
       "      <td>[False, False, False, False, False, False, Fal...</td>\n",
       "      <td>0</td>\n",
       "    </tr>\n",
       "    <tr>\n",
       "      <th>5</th>\n",
       "      <td>[Percentage, distribution, of, ever, married, ...</td>\n",
       "      <td>[NN, NN, IN, RB, VBN, CD, SYM, CD, NN, JJ, NNS...</td>\n",
       "      <td>[False, False, False, False, False, False, Fal...</td>\n",
       "      <td>1</td>\n",
       "    </tr>\n",
       "    <tr>\n",
       "      <th>6</th>\n",
       "      <td>[A, variety, of, different, mixed, -, effects,...</td>\n",
       "      <td>[DT, NN, IN, JJ, JJ, HYPH, NNS, NNS, ,, DT, NN...</td>\n",
       "      <td>[False, False, False, False, False, False, Fal...</td>\n",
       "      <td>0</td>\n",
       "    </tr>\n",
       "    <tr>\n",
       "      <th>7</th>\n",
       "      <td>[SOURCES, :, National, Science, Foundation, ,,...</td>\n",
       "      <td>[NNS, :, NNP, NNP, NNP, ,, NNP, NNP, IN, NNP, ...</td>\n",
       "      <td>[False, False, False, False, False, False, Fal...</td>\n",
       "      <td>1</td>\n",
       "    </tr>\n",
       "    <tr>\n",
       "      <th>8</th>\n",
       "      <td>[Data, come, from, a, positively, selected, sa...</td>\n",
       "      <td>[NNS, VBP, IN, DT, RB, VBN, NN, IN, JJ, NNS, W...</td>\n",
       "      <td>[False, False, False, False, False, False, Fal...</td>\n",
       "      <td>0</td>\n",
       "    </tr>\n",
       "    <tr>\n",
       "      <th>9</th>\n",
       "      <td>[Table, S6, Data, used, in, preparation, of, t...</td>\n",
       "      <td>[NN, NNP, NNP, VBN, IN, NN, IN, DT, NN, VBD, V...</td>\n",
       "      <td>[False, False, False, False, False, False, Fal...</td>\n",
       "      <td>1</td>\n",
       "    </tr>\n",
       "  </tbody>\n",
       "</table>\n",
       "</div>"
      ],
      "text/plain": [
       "                                                text  \\\n",
       "0  [However, ,, the, percentages, of, blacks, ear...   \n",
       "1  [5b, shows, DeKalb, County, ,, AL, ,, which, i...   \n",
       "2  [TIMSS, =, Trends, in, International, Mathemat...   \n",
       "3  [There, is, only, one, accuracy, for, the, fif...   \n",
       "4  [x, G, :, Figure, 1, summarizes, the, relation...   \n",
       "5  [Percentage, distribution, of, ever, married, ...   \n",
       "6  [A, variety, of, different, mixed, -, effects,...   \n",
       "7  [SOURCES, :, National, Science, Foundation, ,,...   \n",
       "8  [Data, come, from, a, positively, selected, sa...   \n",
       "9  [Table, S6, Data, used, in, preparation, of, t...   \n",
       "\n",
       "                                            pos_tags  \\\n",
       "0  [RB, ,, DT, NNS, IN, NNS, VBG, NNP, NN, POS, N...   \n",
       "1  [NNP, VBZ, NNP, NNP, ,, NNP, ,, WDT, IN, DT, J...   \n",
       "2      [NNP, IN, NNS, IN, NNP, NNP, CC, NNP, NNP, .]   \n",
       "3  [EX, VBZ, RB, CD, NN, IN, DT, JJ, NN, IN, DT, ...   \n",
       "4     [NFP, NN, :, NN, CD, VBZ, DT, NNS, IN, NNS, .]   \n",
       "5  [NN, NN, IN, RB, VBN, CD, SYM, CD, NN, JJ, NNS...   \n",
       "6  [DT, NN, IN, JJ, JJ, HYPH, NNS, NNS, ,, DT, NN...   \n",
       "7  [NNS, :, NNP, NNP, NNP, ,, NNP, NNP, IN, NNP, ...   \n",
       "8  [NNS, VBP, IN, DT, RB, VBN, NN, IN, JJ, NNS, W...   \n",
       "9  [NN, NNP, NNP, VBN, IN, NN, IN, DT, NN, VBD, V...   \n",
       "\n",
       "                                                mask  label  \n",
       "0  [False, False, False, False, False, False, Fal...      0  \n",
       "1  [False, False, False, False, False, False, Fal...      0  \n",
       "2  [False, False, True, True, True, True, True, T...      1  \n",
       "3  [False, False, False, False, False, False, Fal...      0  \n",
       "4  [False, False, False, False, False, False, Fal...      0  \n",
       "5  [False, False, False, False, False, False, Fal...      1  \n",
       "6  [False, False, False, False, False, False, Fal...      0  \n",
       "7  [False, False, False, False, False, False, Fal...      1  \n",
       "8  [False, False, False, False, False, False, Fal...      0  \n",
       "9  [False, False, False, False, False, False, Fal...      1  "
      ]
     },
     "execution_count": 4,
     "metadata": {},
     "output_type": "execute_result"
    }
   ],
   "source": [
    "mlm_df"
   ]
  }
 ],
 "metadata": {
  "kernelspec": {
   "display_name": "democratizing-data-ml-algorithms",
   "language": "python",
   "name": "python3"
  },
  "language_info": {
   "codemirror_mode": {
    "name": "ipython",
    "version": 3
   },
   "file_extension": ".py",
   "mimetype": "text/x-python",
   "name": "python",
   "nbconvert_exporter": "python",
   "pygments_lexer": "ipython3",
   "version": "3.10.8"
  },
  "orig_nbformat": 4,
  "vscode": {
   "interpreter": {
    "hash": "2b291ab9446582050e02bff38bdb2cc08a6891ecc485df1df216546589a982e9"
   }
  }
 },
 "nbformat": 4,
 "nbformat_minor": 2
}
