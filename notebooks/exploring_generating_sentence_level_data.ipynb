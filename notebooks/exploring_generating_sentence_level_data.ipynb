{
 "cells": [
  {
   "cell_type": "markdown",
   "metadata": {},
   "source": [
    "### Converting Document-level Data and Labels Into Sentence-Level Data and Labels\n",
    "\n",
    "This notebook explores converting the document-level data and labels into\n",
    "sentence-level data and labels for training Masked Language Models, like Kaggle\n",
    "model 1, and Named Entity Recognition models."
   ]
  },
  {
   "cell_type": "code",
   "execution_count": 46,
   "metadata": {},
   "outputs": [],
   "source": [
    "import json\n",
    "import os\n",
    "from itertools import count, islice\n",
    "from typing import List\n",
    "\n",
    "import pandas as pd\n",
    "import regex as re\n",
    "import spacy\n",
    "from unidecode import unidecode\n",
    "import tqdm.notebook as tqdm\n",
    "\n",
    "import democratizing_data_ml_algorithms.models.regex_model as rm\n",
    "\n",
    "nlp = spacy.load('en_core_web_trf')"
   ]
  },
  {
   "cell_type": "code",
   "execution_count": 3,
   "metadata": {},
   "outputs": [
    {
     "data": {
      "text/html": [
       "<div>\n",
       "<style scoped>\n",
       "    .dataframe tbody tr th:only-of-type {\n",
       "        vertical-align: middle;\n",
       "    }\n",
       "\n",
       "    .dataframe tbody tr th {\n",
       "        vertical-align: top;\n",
       "    }\n",
       "\n",
       "    .dataframe thead th {\n",
       "        text-align: right;\n",
       "    }\n",
       "</style>\n",
       "<table border=\"1\" class=\"dataframe\">\n",
       "  <thead>\n",
       "    <tr style=\"text-align: right;\">\n",
       "      <th></th>\n",
       "      <th>Id</th>\n",
       "      <th>pub_title</th>\n",
       "      <th>dataset_title</th>\n",
       "      <th>dataset_label</th>\n",
       "      <th>cleaned_label</th>\n",
       "    </tr>\n",
       "  </thead>\n",
       "  <tbody>\n",
       "    <tr>\n",
       "      <th>0</th>\n",
       "      <td>d0fa7568-7d8e-4db9-870f-f9c6f668c17b</td>\n",
       "      <td>The Impact of Dual Enrollment on College Degre...</td>\n",
       "      <td>National Education Longitudinal Study</td>\n",
       "      <td>National Education Longitudinal Study</td>\n",
       "      <td>national education longitudinal study</td>\n",
       "    </tr>\n",
       "    <tr>\n",
       "      <th>1</th>\n",
       "      <td>2f26f645-3dec-485d-b68d-f013c9e05e60</td>\n",
       "      <td>Educational Attainment of High School Dropouts...</td>\n",
       "      <td>National Education Longitudinal Study</td>\n",
       "      <td>National Education Longitudinal Study</td>\n",
       "      <td>national education longitudinal study</td>\n",
       "    </tr>\n",
       "  </tbody>\n",
       "</table>\n",
       "</div>"
      ],
      "text/plain": [
       "                                     Id  \\\n",
       "0  d0fa7568-7d8e-4db9-870f-f9c6f668c17b   \n",
       "1  2f26f645-3dec-485d-b68d-f013c9e05e60   \n",
       "\n",
       "                                           pub_title  \\\n",
       "0  The Impact of Dual Enrollment on College Degre...   \n",
       "1  Educational Attainment of High School Dropouts...   \n",
       "\n",
       "                           dataset_title  \\\n",
       "0  National Education Longitudinal Study   \n",
       "1  National Education Longitudinal Study   \n",
       "\n",
       "                           dataset_label  \\\n",
       "0  National Education Longitudinal Study   \n",
       "1  National Education Longitudinal Study   \n",
       "\n",
       "                           cleaned_label  \n",
       "0  national education longitudinal study  \n",
       "1  national education longitudinal study  "
      ]
     },
     "execution_count": 3,
     "metadata": {},
     "output_type": "execute_result"
    }
   ],
   "source": [
    "kaggle_labels = pd.read_csv(\"../data/kaggle/train.csv\")\n",
    "kaggle_labels.head(2)"
   ]
  },
  {
   "cell_type": "markdown",
   "metadata": {},
   "source": [
    "This contains only a single label for each line, so we need to aggregate them \n",
    "by id"
   ]
  },
  {
   "cell_type": "code",
   "execution_count": 4,
   "metadata": {},
   "outputs": [
    {
     "data": {
      "text/html": [
       "<div>\n",
       "<style scoped>\n",
       "    .dataframe tbody tr th:only-of-type {\n",
       "        vertical-align: middle;\n",
       "    }\n",
       "\n",
       "    .dataframe tbody tr th {\n",
       "        vertical-align: top;\n",
       "    }\n",
       "\n",
       "    .dataframe thead th {\n",
       "        text-align: right;\n",
       "    }\n",
       "</style>\n",
       "<table border=\"1\" class=\"dataframe\">\n",
       "  <thead>\n",
       "    <tr style=\"text-align: right;\">\n",
       "      <th></th>\n",
       "      <th>id</th>\n",
       "      <th>label</th>\n",
       "    </tr>\n",
       "  </thead>\n",
       "  <tbody>\n",
       "    <tr>\n",
       "      <th>0</th>\n",
       "      <td>d0fa7568-7d8e-4db9-870f-f9c6f668c17b</td>\n",
       "      <td>National Education Longitudinal Study|Educatio...</td>\n",
       "    </tr>\n",
       "    <tr>\n",
       "      <th>1</th>\n",
       "      <td>2f26f645-3dec-485d-b68d-f013c9e05e60</td>\n",
       "      <td>National Education Longitudinal Study|Educatio...</td>\n",
       "    </tr>\n",
       "  </tbody>\n",
       "</table>\n",
       "</div>"
      ],
      "text/plain": [
       "                                     id  \\\n",
       "0  d0fa7568-7d8e-4db9-870f-f9c6f668c17b   \n",
       "1  2f26f645-3dec-485d-b68d-f013c9e05e60   \n",
       "\n",
       "                                               label  \n",
       "0  National Education Longitudinal Study|Educatio...  \n",
       "1  National Education Longitudinal Study|Educatio...  "
      ]
     },
     "execution_count": 4,
     "metadata": {},
     "output_type": "execute_result"
    }
   ],
   "source": [
    "aggregated_labels = pd.DataFrame({\"id\": kaggle_labels[\"Id\"].unique()})\n",
    "\n",
    "def aggregate_clean_label(row: pd.DataFrame):\n",
    "    labels = list(map(lambda x: x.strip(), row[\"dataset_label\"].unique()))\n",
    "    return \"|\".join(labels)\n",
    "\n",
    "unique_labels = kaggle_labels.groupby(\"Id\").apply(aggregate_clean_label)\n",
    "aggregated_labels[\"label\"] = aggregated_labels[\"id\"].apply(lambda x: unique_labels[x])\n",
    "aggregated_labels.head(2)"
   ]
  },
  {
   "cell_type": "code",
   "execution_count": 5,
   "metadata": {},
   "outputs": [
    {
     "name": "stdout",
     "output_type": "stream",
     "text": [
      "This study used data from\n",
      "National Education Longitudinal Study|Education Longitudinal Study\n"
     ]
    }
   ],
   "source": [
    "document_id = aggregated_labels.id.values[0]\n",
    "\n",
    "with open(\"../data/kaggle/train/\" + document_id + \".json\") as f:\n",
    "    document = json.load(f)\n",
    "\n",
    "text = unidecode(\" \".join(list(map(\n",
    "    lambda x: x[\"text\"].strip().replace(\"\\n\", \" \"), \n",
    "    document\n",
    "))))\n",
    "\n",
    "label = aggregated_labels[aggregated_labels.id == document_id].label.values[0]\n",
    "\n",
    "print(text[:25])\n",
    "print(label)"
   ]
  },
  {
   "attachments": {},
   "cell_type": "markdown",
   "metadata": {},
   "source": [
    "To produce a sentence level dataset we will spaCy to parse the document and\n",
    "split it into sentences. We will then assign tags and store in a format similar\n",
    "to [CoNLL-2003](https://www.clips.uantwerpen.be/conll2003/ner/), which is a popular dataset for NER based models. The CoNLL-2003\n",
    "data looks like this:\n",
    "\n",
    "```\n",
    "   U.N.         NNP  I-NP  I-ORG \n",
    "   official     NN   I-NP  O \n",
    "   Ekeus        NNP  I-NP  I-PER \n",
    "   heads        VBZ  I-VP  O \n",
    "   for          IN   I-PP  O \n",
    "   Baghdad      NNP  I-NP  I-LOC \n",
    "   .            .    O     O \n",
    "```\n",
    "\n",
    "The first column contains the tokens, the second column contains the\n",
    "part-of-speech tagging, the third column contains the syntactic chunk tagging,\n",
    "and the fourth column contains the named entity tagging.\n",
    "\n",
    "We will use the same format, but we will only use the first two columns and add\n",
    "a third column indicating the label for each token using the [IOB\n",
    "format](https://en.wikipedia.org/wiki/Inside%E2%80%93outside%E2%80%93beginning_(tagging)).\n",
    "\n",
    "\n",
    "Our tags will be `I-DAT`, `O`, and `B-DAT`"
   ]
  },
  {
   "cell_type": "code",
   "execution_count": 6,
   "metadata": {},
   "outputs": [],
   "source": [
    "parsed_document = nlp(text)"
   ]
  },
  {
   "cell_type": "markdown",
   "metadata": {},
   "source": [
    "Let's print out the text and tokens for a look at the data."
   ]
  },
  {
   "cell_type": "code",
   "execution_count": 7,
   "metadata": {},
   "outputs": [
    {
     "name": "stdout",
     "output_type": "stream",
     "text": [
      "Sentence:\n",
      " This study used data from the National Education Longitudinal Study (NELS:88) to examine the effects of dual enrollment programs for high school students on college degree attainment.\n",
      "This\tDT\n",
      "study\tNN\n",
      "used\tVBD\n",
      "data\tNNS\n",
      "from\tIN\n",
      "the\tDT\n",
      "National\tNNP\n",
      "Education\tNNP\n",
      "Longitudinal\tNNP\n",
      "Study\tNNP\n",
      "(\t-LRB-\n",
      "NELS:88\tNNP\n",
      ")\t-RRB-\n",
      "to\tTO\n",
      "examine\tVB\n",
      "the\tDT\n",
      "effects\tNNS\n",
      "of\tIN\n",
      "dual\tJJ\n",
      "enrollment\tNN\n"
     ]
    }
   ],
   "source": [
    "for sentence in islice(parsed_document.sents, 1):\n",
    "    print(\"Sentence:\\n\", sentence)\n",
    "    for token in islice(sentence, 20):\n",
    "        print(\"\\t\".join([token.text, token.tag_]))"
   ]
  },
  {
   "cell_type": "markdown",
   "metadata": {},
   "source": [
    "To add the labels we need to see if any of the labels are in the sentence first."
   ]
  },
  {
   "cell_type": "code",
   "execution_count": 8,
   "metadata": {},
   "outputs": [],
   "source": [
    "# thrown in a bad label to test for false positives\n",
    "labels = label.split(\"|\") + [\"Banana Pancakes\"]\n",
    "rm.RegexModel.regexify_keyword(labels[0])\n",
    "regex_labels = list(map(\n",
    "    re.compile,\n",
    "    map(rm.RegexModel.regexify_keyword, labels)\n",
    "))"
   ]
  },
  {
   "cell_type": "code",
   "execution_count": 19,
   "metadata": {},
   "outputs": [
    {
     "data": {
      "text/html": [
       "<span class=\"tex2jax_ignore\"><div class=\"entities\" style=\"line-height: 2.5; direction: ltr\">This study used data from the \n",
       "<mark class=\"entity\" style=\"background: #ddd; padding: 0.45em 0.6em; margin: 0 0.25em; line-height: 1; border-radius: 0.35em;\">\n",
       "    National Education Longitudinal Study\n",
       "    <span style=\"font-size: 0.8em; font-weight: bold; line-height: 1; border-radius: 0.35em; vertical-align: middle; margin-left: 0.5rem\">Dataset</span>\n",
       "</mark>\n",
       " (NELS:88) to examine the effects of dual enrollment programs for high school students on college degree attainment.</div></span>"
      ],
      "text/plain": [
       "<IPython.core.display.HTML object>"
      ]
     },
     "metadata": {},
     "output_type": "display_data"
    }
   ],
   "source": [
    "def detect_labels(labels:List[re.Pattern], sentence:str) -> List[List[str]]:\n",
    "    return list(map(\n",
    "        lambda match: match.captures(), # It's possible to have more than one match\n",
    "        filter(\n",
    "            bool,\n",
    "            map(\n",
    "                lambda rl: rl.search(sentence),\n",
    "                labels\n",
    "            )\n",
    "        )\n",
    "    ))\n",
    "\n",
    "def tag_sentence(regex_labels:List[re.Pattern], sentence:spacy.tokens.span.Span):\n",
    "    match_lists = sorted(\n",
    "        detect_labels(regex_labels, sentence.text), \n",
    "        key=lambda x: max(map(len, x)), \n",
    "        reverse=True\n",
    "    )\n",
    "\n",
    "    tokens = [token.text for token in sentence]\n",
    "    tags = [token.tag_ for token in sentence]\n",
    "    ner_tags = [\"O\"] * len(sentence) # assume no match\n",
    "\n",
    "    for matches in match_lists:\n",
    "        for match in matches:\n",
    "            label_tokens = nlp(match)\n",
    "            start_idx = tokens.index(label_tokens[0].text)\n",
    "            idxs = list(range(start_idx, start_idx + len(label_tokens)))\n",
    "\n",
    "\n",
    "            first_tag = ner_tags[start_idx]\n",
    "            prev_tag = ner_tags[start_idx - 1] if start_idx > 0 else \"O\"\n",
    "            # If there are any tokens that are already marked then this match\n",
    "            # could be a subset of another match\n",
    "            if not any(map(lambda x: x!=\"O\", ner_tags[start_idx: start_idx + len(label_tokens)])):\n",
    "                if prev_tag==\"O\":\n",
    "                    ner_tags[start_idx] = \"I-DAT\"\n",
    "                else:\n",
    "                    ner_tags[start_idx] = \"B-DAT\"\n",
    "\n",
    "                for idx in idxs[1:]:\n",
    "                    ner_tags[idx] = \"I-DAT\"\n",
    "\n",
    "    return tokens, tags, ner_tags\n",
    "\n",
    "# https://spacy.io/usage/visualizers/#span\n",
    "from spacy import displacy\n",
    "from spacy.tokens import Span\n",
    "\n",
    "for sentence in islice(parsed_document.sents, 1):\n",
    "    tokens, tags, ner_tags = tag_sentence(regex_labels, sentence)\n",
    "    \n",
    "    start = sentence.text.index(tokens[ner_tags.index(\"I-DAT\")])\n",
    "    end = start + len(\" \".join([tokens[i] for i in range(len(tokens)) if ner_tags[i] == \"I-DAT\"]))\n",
    "\n",
    "    # https://spacy.io/usage/visualizers/#span\n",
    "    # https://spacy.io/usage/visualizers/#manual-usage\n",
    "    ex = [{\n",
    "        \"text\": sentence.text,\n",
    "        \"ents\": [{\"start\": start, \"end\": end, \"label\": \"Dataset\"}],\n",
    "        \"title\": None \n",
    "    }]\n",
    "\n",
    "    displacy.render(ex, style=\"ent\", manual=True)"
   ]
  },
  {
   "attachments": {},
   "cell_type": "markdown",
   "metadata": {},
   "source": [
    "Let's covert the entire document."
   ]
  },
  {
   "cell_type": "code",
   "execution_count": 36,
   "metadata": {},
   "outputs": [],
   "source": [
    "from itertools import chain\n",
    "\n",
    "tokens_tags_ner = list(map(\n",
    "    lambda sentence: tag_sentence(regex_labels, sentence),\n",
    "    parsed_document.sents\n",
    "))\n",
    "\n",
    "# this is a list of tuples, one for each sentence\n",
    "# this flattens the list of tuples into a list of the tokens, tags, and ner tags\n",
    "# for the whole document\n",
    "tokens, tags, ner = list(map(lambda x: list(chain(*x)), zip(*tokens_tags_ner)))"
   ]
  },
  {
   "cell_type": "code",
   "execution_count": 45,
   "metadata": {},
   "outputs": [
    {
     "data": {
      "text/html": [
       "<span class=\"tex2jax_ignore\"><div class=\"entities\" style=\"line-height: 2.5; direction: ltr\">This study used data from the\n",
       "<mark class=\"entity\" style=\"background: #ddd; padding: 0.45em 0.6em; margin: 0 0.25em; line-height: 1; border-radius: 0.35em;\">\n",
       "     National Education Longitudinal Study\n",
       "    <span style=\"font-size: 0.8em; font-weight: bold; line-height: 1; border-radius: 0.35em; vertical-align: middle; margin-left: 0.5rem\">Dataset</span>\n",
       "</mark>\n",
       " ( NELS:88 ) to examine the effects of dual enrollment programs for high school students on college degree attainment . The study also reported whether the impacts of dual enrollment programs were different for first generation college students versus students whose parents had attended at least some college . In addition , a supplemental analysis reports on the impact of different amounts of dual enrollment course - taking and college degree attainment . Dual enrollment programs offer college - level learning experiences for high school students . The programs offer college courses and/or the opportunity to earn college credits for students while still in high school . The intervention group in the study was comprised of NELS participants who attended a postsecondary school and who participated in a dual enrollment program while in high school ( n = 880 ) . The study author used propensity score matching methods to create a comparison group of NELS participants who also attended a postsecondary school but who did not participate in a dual enrollment program in high school ( n = 7,920 ) . Dual enrollment programs allow high school students to take college courses and earn college credits while still in high school . These programs are intended to improve college attainment , especially among low - income students , by helping students prepare academically for the rigors of college coursework and enabling students to accumulate college credits toward a degree . The study reported program impacts on two outcomes : attainment of any college degree and attainment of a Bachelor 's degree . These impacts were examined for various subgroups of students , which are described below . What did the study find ? The study reported , and the WWC confirmed , that dual enrollment programs significantly increased the likelihood of attaining ( a ) any college degree and ( b ) a bachelor 's degree . The study reported on the impact of dual enrollment programs for first generation college students , students whose parents had some college , students whose parents had a Bachelor 's degree , and students with post - Bachelor 's degree parents . Although point estimates differed for the subgroups of students with different parental educational backgrounds , the subgroups were not significantly different from each other . The overall impact of dual enrollment programs is , therefore , the WWC 's best estimate of effectiveness for these subgroups ( see Appendix D for more information ) . The study author also examined whether students who earned more dual enrollment credits prior to attending college achieved greater benefits from the dual enrollment programs . The impact of dual enrollment was significantly different for students earning three dual enrollment credits versus those earning six or more credits . Students who earned three credits ( i.e. , had one dual enrollment course ) were not more likely to attain a college degree than comparison group students . However , students who earned six credits ( i.e. , two courses ) and students who earned seven or more credits were significantly more likely to attain any college degree or a bachelor 's degree than comparison students ( see Appendix D for more information ) . A sample of these respondents was then resurveyed through four follow - ups in 1990 , 1992 , 1994 , and 2000 . The fourth follow - up ( 2000 ) was used for this study . Appendix B : Outcome measures for the degree attainment domain   Study Notes : A correction for multiple comparisons was needed but did not affect significance levels . The p - values presented here were reported in the original study . The mean differences reported in the table are covariate - adjusted mean differences and were taken from The research described in this report meets WWC evidence standards with reservations Cautions : Although the study matched students who participated in dual enrollment programs to those who did not , students who self - selected to participate in dual enrollment programs may have been different from students in general high school programs in ways that were unobserved in the study data . Study sample A nationally representative sample of eighth graders was first surveyed in the spring of 1988 . The intervention group was comprised of those individuals in the NELS sample who attended college and participated in dual enrollment programs in high school . No other information about the nature or characteristics of the dual enrollment programs was provided . The comparison group was comprised of NELS participants who attended college but did not participate in a dual enrollment program in high school . The comparison students participated in other high school programs ( e.g. , traditional high school programs or Advanced Placement programs ) . There were two outcomes examined in the study : any college degree attainment and bachelor 's degree attainment . Both outcomes were derived from the fourth follow - up of the NELS collected in 2000 . For a more detailed description of these outcome measures , see Appendix B. The study was based on secondary data from a nationally representative survey of students . No information about the nature of the training for dual enrollment providers or implemenation was provided . This study was identified for review by receiving media attention . Any college degree attainment The study author collected information on college degree attainment from the fourth follow - up of the\n",
       "<mark class=\"entity\" style=\"background: #ddd; padding: 0.45em 0.6em; margin: 0 0.25em; line-height: 1; border-radius: 0.35em;\">\n",
       "     National Education Longitudinal Study\n",
       "    <span style=\"font-size: 0.8em; font-weight: bold; line-height: 1; border-radius: 0.35em; vertical-align: middle; margin-left: 0.5rem\">Dataset</span>\n",
       "</mark>\n",
       " collected in 2000 . Only students who attended college were included in the study . The study author collected information on bachelor 's degree attainment from the fourth follow - up of the\n",
       "<mark class=\"entity\" style=\"background: #ddd; padding: 0.45em 0.6em; margin: 0 0.25em; line-height: 1; border-radius: 0.35em;\">\n",
       "     National Education Longitudinal Study\n",
       "    <span style=\"font-size: 0.8em; font-weight: bold; line-height: 1; border-radius: 0.35em; vertical-align: middle; margin-left: 0.5rem\">Dataset</span>\n",
       "</mark>\n",
       " collected in 2000 . Only students who attended college were included in the study . The effect size is a standardized measure of the effect of an intervention on student outcomes , representing the change ( measured in standard deviations ) in an average student 's outcome that can be expected if the student is given the intervention . The improvement index is an alternate presentation of the effect size , reflecting the change in an average student 's percentile rank that can be expected if the student is given the intervention . The WWC - computed average effect size is a simple average rounded to two decimal places ; the average improvement index is calculated from the average effect size . The statistical significance of the study 's domain average was determined by the WWC ; the study is characterized as having a statistically significant positive effect because univariate statistical tests are reported for each outcome measure and both effects are positive and statistically significant , accounting for multiple comparisons . nr = not reported . A correction for multiple comparisons was needed , but did not affect the statistical significance of the outcomes . The p - values presented here were reported in the original study . Effect sizes were computed using the covariate - adjusted mean difference and standard errors reported in Table 1 of the manuscript . This quasi - experimental study used propensity score matching to create a comparison group ; therefore , the WWC required that baseline equivalence be established to determine whether the study met standards with reservations . Because the two outcomes reported above did not have pretests , two key covariates were selected by the WWC from among those used by the study author in the propensity score matching : family income and prior achievement . In response to a request by the WWC , the author provided baseline means and standard deviations for the analytic sample on these two covariates . The baseline effect sizes for family income and prior achievement were 0.02 and 0.00 , respectively . The study therefore meets WWC standards with reservations because baseline equivalence was met on these two covariates . Table Notes : Positive results for mean difference , effect size , and improvement index favor the intervention group ; negative results favor the comparison group . The effect size is a standardized measure of the effect of an intervention on student outcomes , representing the change ( measured in standard deviations ) in an average student 's outcome that can be expected if the student is given the intervention . The improvement index is an alternate presentation of the effect size , reflecting the change in an average student 's percentile rank that can be expected if the student is given the intervention . nr = not reported . Attrition Attrition occurs when an outcome variable is not available for all participants initially assigned to the intervention and comparison groups . The WWC considers the total attrition rate and the difference in attrition rates across groups within a study . Clustering adjustment If intervention assignment is made at a cluster level and the analysis is conducted at the student level , the WWC will adjust the statistical significance to account for this mismatch , if necessary . Confounding factor A confounding factor is a component of a study that is completely aligned with one of the study conditions , making it impossible to separate how much of the observed effect was due to the intervention and how much was due to the factor . Design The design of a study is the method by which intervention and comparison groups were assigned . Domain A domain is a group of closely related outcomes . Effect size The effect size is a measure of the magnitude of an effect . The WWC uses a standardized measure to facilitate comparisons across studies and outcomes . Eligibility A study is eligible for review if it falls within the scope of the review protocol and uses either an experimental or matched comparison group design . Equivalence A demonstration that the analysis sample groups are similar on observed characteristics defined in the review area protocol . Improvement index Along a percentile distribution of students , the improvement index represents the gain or loss of the average student due to the intervention . As the average student starts at the 50th percentile , the measure ranges from -50 to +50 . When a study includes multiple outcomes or comparison groups , the WWC will adjust the statistical significance to account for the multiple comparisons , if necessary . A quasi - experimental design ( QED ) is a research design in which subjects are assigned to intervention and comparison groups through a process that is not random . A randomized controlled trial ( RCT ) is an experiment in which investigators randomly assign eligible participants into intervention and comparison groups . A research approach in which an outcome variable is measured repeatedly within and across different conditions that are defined by the presence or absence of an intervention . The standard deviation of a measure shows how much variation exists across observations in the sample . A low standard deviation indicates that the observations in the sample tend to be very close to the mean ; a high standard deviation indicates that the observations in the sample are spread out over a large range of values . Statistical significance Statistical significance is the probability that the difference between groups is a result of chance rather than a real difference between the groups . The WWC labels a finding statistically significant if the likelihood that the difference is due to chance is less than 5 % ( p &lt; 0.05 ) . Substantively important A substantively important finding is one that has an effect size of 0.25 or greater , regardless of statistical significance . Please see the WWC Procedures and Standards Handbook ( version 2.1 ) for additional details .</div></span>"
      ],
      "text/plain": [
       "<IPython.core.display.HTML object>"
      ]
     },
     "metadata": {},
     "output_type": "display_data"
    }
   ],
   "source": [
    "from typing import Tuple\n",
    "\n",
    "def extract_entities(ner_tags:List[str], tokens:List[str]) -> List[Tuple[int, int, str]]:\n",
    "    entities = []\n",
    "    checked = -1\n",
    "    \n",
    "    for i in range(len(ner_tags)):\n",
    "        if ner_tags[i] in [\"B-DAT\", \"I-DAT\"] and i > checked:\n",
    "            start = len(\" \".join(tokens[:i]))\n",
    "            end = i + 1\n",
    "            while ner_tags[end] == \"I-DAT\":\n",
    "                end += 1\n",
    "            checked = end \n",
    "            end = len(\" \".join(tokens[:end]))\n",
    "            entities.append(dict(start=start, end=end, label=\"Dataset\"))\n",
    "    return entities\n",
    "\n",
    "ex = [{\n",
    "    \"text\": \" \".join(tokens),\n",
    "    \"ents\": extract_entities(ner, tokens),\n",
    "    \"title\": None \n",
    "}]\n",
    "displacy.render(ex, style=\"ent\", manual=True)\n"
   ]
  }
 ],
 "metadata": {
  "kernelspec": {
   "display_name": "Python 3.10.8 ('democratizingdata-ml-algo')",
   "language": "python",
   "name": "python3"
  },
  "language_info": {
   "codemirror_mode": {
    "name": "ipython",
    "version": 3
   },
   "file_extension": ".py",
   "mimetype": "text/x-python",
   "name": "python",
   "nbconvert_exporter": "python",
   "pygments_lexer": "ipython3",
   "version": "3.10.8"
  },
  "orig_nbformat": 4,
  "vscode": {
   "interpreter": {
    "hash": "b3e03aa19f4cee1cca181f326aea7726af1ea307b5fcbfd54a41f945b089b370"
   }
  }
 },
 "nbformat": 4,
 "nbformat_minor": 2
}
