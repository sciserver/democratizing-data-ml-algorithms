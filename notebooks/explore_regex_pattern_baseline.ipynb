{
 "cells": [
  {
   "cell_type": "markdown",
   "metadata": {},
   "source": [
    "# Trying out a Regular Expression as a Baseline for High Recall\n",
    "\n",
    "Kaggle Model 2 uses the Schwartz-Heasrt (SW) algorithm for extracting candidate \n",
    "entities and then classifies them using a binary classifier (see \n",
    "`explore_schwartz_heart_baseline.ipynb` for more info). The SW algorithm will\n",
    "miss any entities that don't match the pattern LONG FORM (ACRONYM). In the \n",
    "evalution of the Kaggle private data set, this produced a recall of 0.65. So,\n",
    "at best models leveraging the SW algorithm will only produce a recall of 0.65.\n",
    "\n",
    "This notebook tries using a Regular Expression based extraction method to get \n",
    "candidates which is more flexible than the SW algorithm.\n"
   ]
  },
  {
   "cell_type": "code",
   "execution_count": 1,
   "metadata": {},
   "outputs": [],
   "source": [
    "from itertools import chain\n",
    "import json\n",
    "\n",
    "import pandas as pd\n",
    "from thefuzz import fuzz, process\n",
    "\n",
    "import democratizing_data_ml_algorithms.models.regex_model as rm\n",
    "from democratizing_data_ml_algorithms.data.kaggle_repository import KaggleRepository\n",
    "from democratizing_data_ml_algorithms.evaluate.model import evaluate_model, evaluate_kaggle_private"
   ]
  },
  {
   "cell_type": "code",
   "execution_count": 2,
   "metadata": {},
   "outputs": [],
   "source": [
    "repo = KaggleRepository()"
   ]
  },
  {
   "cell_type": "code",
   "execution_count": 5,
   "metadata": {},
   "outputs": [
    {
     "name": "stdout",
     "output_type": "stream",
     "text": [
      "INFO: Pandarallel will run on 4 workers.\n",
      "INFO: Pandarallel will use standard multiprocessing data transfer (pipe) to transfer data between the main process and workers.\n"
     ]
    },
    {
     "data": {
      "application/vnd.jupyter.widget-view+json": {
       "model_id": "80ad77eab7a546c49191683959569cbe",
       "version_major": 2,
       "version_minor": 0
      },
      "text/plain": [
       "VBox(children=(HBox(children=(IntProgress(value=0, description='0.00%', max=2016), Label(value='0 / 2016'))), …"
      ]
     },
     "metadata": {},
     "output_type": "display_data"
    },
    {
     "data": {
      "text/plain": [
       "\n",
       "        Model Evaluation:\n",
       "\n",
       "        - Run time: 15.608129501342773 seconds, avg: 0.0019357719832993642 seconds per sample\n",
       "        - True Postive Count: 24137, avg: 2.993550787548059 per sample\n",
       "        - Precision: 0.0744222616202883\n",
       "        - Recall: 0.6834192196613624\n",
       "        "
      ]
     },
     "execution_count": 5,
     "metadata": {},
     "output_type": "execute_result"
    }
   ],
   "source": [
    "# the `scorer` and `processor` arguments are explained in the notebook\n",
    "# `defining_a_match_1.ipynb`\n",
    "\n",
    "evaluation = evaluate_kaggle_private(\n",
    "    rm.RegexModel(dict()),\n",
    "    dict(),  # this model doesn't have any configuration params\n",
    "    scorer=fuzz.partial_ratio,  # use fuzzy string matching\n",
    "    processor=lambda s: s.lower(),  # convert to lowercase\n",
    ")\n",
    "evaluation"
   ]
  },
  {
   "cell_type": "code",
   "execution_count": 6,
   "metadata": {},
   "outputs": [],
   "source": [
    "stats = evaluation.output_statistics\n",
    "all_labels = list(chain(*list(map(lambda x: x[\"labels\"], stats[\"statistics\"].values))))\n",
    "global_stats = list(chain(*list(map(lambda x: x[\"stats\"], stats[\"statistics\"].values))))"
   ]
  },
  {
   "cell_type": "code",
   "execution_count": 7,
   "metadata": {},
   "outputs": [
    {
     "data": {
      "text/html": [
       "<div>\n",
       "<style scoped>\n",
       "    .dataframe tbody tr th:only-of-type {\n",
       "        vertical-align: middle;\n",
       "    }\n",
       "\n",
       "    .dataframe tbody tr th {\n",
       "        vertical-align: top;\n",
       "    }\n",
       "\n",
       "    .dataframe thead th {\n",
       "        text-align: right;\n",
       "    }\n",
       "</style>\n",
       "<table border=\"1\" class=\"dataframe\">\n",
       "  <thead>\n",
       "    <tr style=\"text-align: right;\">\n",
       "      <th></th>\n",
       "      <th>stats</th>\n",
       "    </tr>\n",
       "    <tr>\n",
       "      <th>labels</th>\n",
       "      <th></th>\n",
       "    </tr>\n",
       "  </thead>\n",
       "  <tbody>\n",
       "    <tr>\n",
       "      <th>dbgap</th>\n",
       "      <td>3710</td>\n",
       "    </tr>\n",
       "    <tr>\n",
       "      <th>database of genotypes and phenotypes</th>\n",
       "      <td>129</td>\n",
       "    </tr>\n",
       "    <tr>\n",
       "      <th>gtex</th>\n",
       "      <td>112</td>\n",
       "    </tr>\n",
       "    <tr>\n",
       "      <th>1000 genomes project</th>\n",
       "      <td>110</td>\n",
       "    </tr>\n",
       "    <tr>\n",
       "      <th>database of genotypes and phenotypes dbgap</th>\n",
       "      <td>83</td>\n",
       "    </tr>\n",
       "    <tr>\n",
       "      <th>...</th>\n",
       "      <td>...</td>\n",
       "    </tr>\n",
       "    <tr>\n",
       "      <th>genemania</th>\n",
       "      <td>1</td>\n",
       "    </tr>\n",
       "    <tr>\n",
       "      <th>genenetwork</th>\n",
       "      <td>1</td>\n",
       "    </tr>\n",
       "    <tr>\n",
       "      <th>genenetwork org</th>\n",
       "      <td>1</td>\n",
       "    </tr>\n",
       "    <tr>\n",
       "      <th>generation scotland</th>\n",
       "      <td>1</td>\n",
       "    </tr>\n",
       "    <tr>\n",
       "      <th>zulu gwas</th>\n",
       "      <td>1</td>\n",
       "    </tr>\n",
       "  </tbody>\n",
       "</table>\n",
       "<p>3748 rows × 1 columns</p>\n",
       "</div>"
      ],
      "text/plain": [
       "                                             stats\n",
       "labels                                            \n",
       "dbgap                                         3710\n",
       "database of genotypes and phenotypes           129\n",
       "gtex                                           112\n",
       "1000 genomes project                           110\n",
       "database of genotypes and phenotypes dbgap      83\n",
       "...                                            ...\n",
       "genemania                                        1\n",
       "genenetwork                                      1\n",
       "genenetwork org                                  1\n",
       "generation scotland                              1\n",
       "zulu gwas                                        1\n",
       "\n",
       "[3748 rows x 1 columns]"
      ]
     },
     "execution_count": 7,
     "metadata": {},
     "output_type": "execute_result"
    }
   ],
   "source": [
    "stats_df = pd.DataFrame({\"labels\": all_labels, \"stats\": global_stats})\n",
    "stats_df.loc[stats_df[\"stats\"] == \"FN\", :].groupby(\"labels\").count().sort_values(\n",
    "    \"stats\", ascending=False\n",
    ")"
   ]
  },
  {
   "attachments": {},
   "cell_type": "markdown",
   "metadata": {},
   "source": [
    "Let's try adding some explicit keywords that we want to include that don't always match the rules. "
   ]
  },
  {
   "cell_type": "code",
   "execution_count": 8,
   "metadata": {},
   "outputs": [
    {
     "name": "stdout",
     "output_type": "stream",
     "text": [
      "INFO: Pandarallel will run on 4 workers.\n",
      "INFO: Pandarallel will use standard multiprocessing data transfer (pipe) to transfer data between the main process and workers.\n"
     ]
    },
    {
     "data": {
      "application/vnd.jupyter.widget-view+json": {
       "model_id": "d3bb6d1cefa64bd1a4d63a2f3fffbfac",
       "version_major": 2,
       "version_minor": 0
      },
      "text/plain": [
       "VBox(children=(HBox(children=(IntProgress(value=0, description='0.00%', max=2016), Label(value='0 / 2016'))), …"
      ]
     },
     "metadata": {},
     "output_type": "display_data"
    },
    {
     "data": {
      "text/plain": [
       "\n",
       "        Model Evaluation:\n",
       "\n",
       "        - Run time: 28.748844623565674 seconds, avg: 0.003565527052407996 seconds per sample\n",
       "        - True Postive Count: 28028, avg: 3.47612551159618 per sample\n",
       "        - Precision: 0.08533284620419844\n",
       "        - Recall: 0.7984730214802576\n",
       "        "
      ]
     },
     "execution_count": 8,
     "metadata": {},
     "output_type": "execute_result"
    }
   ],
   "source": [
    "keywords = [\n",
    "    \"database of genotypes and phenotypes\",\n",
    "    \"dbgap\",\n",
    "    \"DART buoy\",\n",
    "    \"pisa\"\n",
    "]\n",
    "\n",
    "evaluation_with_keywords = evaluate_model(\n",
    "    repo, \n",
    "    rm.RegexModel(dict(keywords=keywords)), \n",
    "    dict(),\n",
    ")\n",
    "\n",
    "evaluation_with_keywords"
   ]
  },
  {
   "cell_type": "code",
   "execution_count": 9,
   "metadata": {},
   "outputs": [],
   "source": [
    "stats = evaluation_with_keywords.output_statistics\n",
    "all_labels = list(chain(*list(map(lambda x: x[\"labels\"], stats[\"statistics\"].values))))\n",
    "global_stats = list(chain(*list(map(lambda x: x[\"stats\"], stats[\"statistics\"].values))))"
   ]
  },
  {
   "cell_type": "code",
   "execution_count": 10,
   "metadata": {},
   "outputs": [
    {
     "data": {
      "text/html": [
       "<div>\n",
       "<style scoped>\n",
       "    .dataframe tbody tr th:only-of-type {\n",
       "        vertical-align: middle;\n",
       "    }\n",
       "\n",
       "    .dataframe tbody tr th {\n",
       "        vertical-align: top;\n",
       "    }\n",
       "\n",
       "    .dataframe thead th {\n",
       "        text-align: right;\n",
       "    }\n",
       "</style>\n",
       "<table border=\"1\" class=\"dataframe\">\n",
       "  <thead>\n",
       "    <tr style=\"text-align: right;\">\n",
       "      <th></th>\n",
       "      <th>stats</th>\n",
       "    </tr>\n",
       "    <tr>\n",
       "      <th>labels</th>\n",
       "      <th></th>\n",
       "    </tr>\n",
       "  </thead>\n",
       "  <tbody>\n",
       "    <tr>\n",
       "      <th>gtex</th>\n",
       "      <td>112</td>\n",
       "    </tr>\n",
       "    <tr>\n",
       "      <th>1000 genomes project</th>\n",
       "      <td>110</td>\n",
       "    </tr>\n",
       "    <tr>\n",
       "      <th>business r d and innovation survey</th>\n",
       "      <td>79</td>\n",
       "    </tr>\n",
       "    <tr>\n",
       "      <th>dbsnp</th>\n",
       "      <td>75</td>\n",
       "    </tr>\n",
       "    <tr>\n",
       "      <th>foodaps</th>\n",
       "      <td>72</td>\n",
       "    </tr>\n",
       "    <tr>\n",
       "      <th>...</th>\n",
       "      <td>...</td>\n",
       "    </tr>\n",
       "    <tr>\n",
       "      <th>genereviews</th>\n",
       "      <td>1</td>\n",
       "    </tr>\n",
       "    <tr>\n",
       "      <th>generif</th>\n",
       "      <td>1</td>\n",
       "    </tr>\n",
       "    <tr>\n",
       "      <th>genes and genomes database</th>\n",
       "      <td>1</td>\n",
       "    </tr>\n",
       "    <tr>\n",
       "      <th>genesis study</th>\n",
       "      <td>1</td>\n",
       "    </tr>\n",
       "    <tr>\n",
       "      <th>zulu gwas</th>\n",
       "      <td>1</td>\n",
       "    </tr>\n",
       "  </tbody>\n",
       "</table>\n",
       "<p>3691 rows × 1 columns</p>\n",
       "</div>"
      ],
      "text/plain": [
       "                                    stats\n",
       "labels                                   \n",
       "gtex                                  112\n",
       "1000 genomes project                  110\n",
       "business r d and innovation survey     79\n",
       "dbsnp                                  75\n",
       "foodaps                                72\n",
       "...                                   ...\n",
       "genereviews                             1\n",
       "generif                                 1\n",
       "genes and genomes database              1\n",
       "genesis study                           1\n",
       "zulu gwas                               1\n",
       "\n",
       "[3691 rows x 1 columns]"
      ]
     },
     "execution_count": 10,
     "metadata": {},
     "output_type": "execute_result"
    }
   ],
   "source": [
    "stats_df = pd.DataFrame({\"labels\": all_labels, \"stats\": global_stats})\n",
    "stats_df.loc[stats_df[\"stats\"] == \"FN\", :].groupby(\"labels\").count().sort_values(\n",
    "    \"stats\", ascending=False\n",
    ")"
   ]
  }
 ],
 "metadata": {
  "kernelspec": {
   "display_name": "Python 3.10.8 ('democratizingdata-ml-algo')",
   "language": "python",
   "name": "python3"
  },
  "language_info": {
   "codemirror_mode": {
    "name": "ipython",
    "version": 3
   },
   "file_extension": ".py",
   "mimetype": "text/x-python",
   "name": "python",
   "nbconvert_exporter": "python",
   "pygments_lexer": "ipython3",
   "version": "3.10.8"
  },
  "orig_nbformat": 4,
  "vscode": {
   "interpreter": {
    "hash": "b3e03aa19f4cee1cca181f326aea7726af1ea307b5fcbfd54a41f945b089b370"
   }
  }
 },
 "nbformat": 4,
 "nbformat_minor": 2
}
