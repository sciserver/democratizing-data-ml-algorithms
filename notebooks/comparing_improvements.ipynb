{
 "cells": [
  {
   "attachments": {},
   "cell_type": "markdown",
   "metadata": {},
   "source": [
    "This notebook analyzes the performance improvements to model's 2 and 3. With\n",
    "respect to particular key words or datasets.\n",
    "\n",
    "The models are evaluated on the Kaggle competition's held out private validation\n",
    "set.\n",
    "\n",
    "Improvements on the larger Elsevier corpus will can be evaluated in the future,\n",
    "but will require further validation as there isn't a ground truth.\n",
    "\n",
    "**Note On Methodology:** The submissions in the kaggle competition were at a\n",
    "high level all some form of an ensemble. Though there is some main component or\n",
    "model/methodology, the submitted models all were wrapped in some extra\n",
    "heuristics to improve the final results. Which is analogous to measuring an\n",
    "ensemble consisting of the: core model + the heurisitic model. This notebook\n",
    "will only be analyzing the core methodology of the models, and not the extra\n",
    "heuristics. The heuristics though helpful for the competition are not robust and\n",
    "tend to not add value over and abobe the overall ensemble of all the kaggle\n",
    "submissions."
   ]
  },
  {
   "cell_type": "code",
   "execution_count": 1,
   "metadata": {},
   "outputs": [],
   "source": [
    "import re\n",
    "\n",
    "import pandas as pd\n",
    "\n",
    "import democratizing_data_ml_algorithms.models.kaggle_model2 as km2\n",
    "import democratizing_data_ml_algorithms.models.kaggle_model3 as km3\n",
    "import democratizing_data_ml_algorithms.models.kaggle_model3_regex_inference as km3r\n",
    "import democratizing_data_ml_algorithms.models.regex_model as rm\n",
    "import democratizing_data_ml_algorithms.models.schwartz_hearst_model as shm\n",
    "import democratizing_data_ml_algorithms.evaluate.model as em\n",
    "import democratizing_data_ml_algorithms.data.kaggle_repository as kr"
   ]
  },
  {
   "cell_type": "code",
   "execution_count": 2,
   "metadata": {},
   "outputs": [],
   "source": [
    "from importlib import reload"
   ]
  },
  {
   "cell_type": "code",
   "execution_count": 3,
   "metadata": {},
   "outputs": [],
   "source": [
    "class MockRepo:\n",
    "    def __init__(self, df):\n",
    "        self.df = df\n",
    "    def get_validation_data(self):\n",
    "        return self.df"
   ]
  },
  {
   "cell_type": "code",
   "execution_count": 4,
   "metadata": {},
   "outputs": [],
   "source": [
    "def clean_text(txt):\n",
    "    return re.sub('[^A-Za-z0-9]+', ' ', str(txt).lower())"
   ]
  },
  {
   "cell_type": "code",
   "execution_count": 5,
   "metadata": {},
   "outputs": [],
   "source": [
    "with open(\"../data/entity_classification/ncses_priorities.csv\", \"r\") as f:\n",
    "    ncses_priorities = [l.strip().split(\",\")[0].replace('\"', '') for l in f.readlines()[1:]]\n",
    "    ncses_priorities_cleaned = list(map(clean_text, ncses_priorities))\n",
    "\n",
    "kaggle_validation = pd.read_csv(\"../data/kaggle/validation.csv\")"
   ]
  },
  {
   "cell_type": "code",
   "execution_count": 6,
   "metadata": {},
   "outputs": [
    {
     "data": {
      "text/html": [
       "<div>\n",
       "<style scoped>\n",
       "    .dataframe tbody tr th:only-of-type {\n",
       "        vertical-align: middle;\n",
       "    }\n",
       "\n",
       "    .dataframe tbody tr th {\n",
       "        vertical-align: top;\n",
       "    }\n",
       "\n",
       "    .dataframe thead th {\n",
       "        text-align: right;\n",
       "    }\n",
       "</style>\n",
       "<table border=\"1\" class=\"dataframe\">\n",
       "  <thead>\n",
       "    <tr style=\"text-align: right;\">\n",
       "      <th></th>\n",
       "      <th>Id</th>\n",
       "      <th>PredictionString</th>\n",
       "      <th>Usage</th>\n",
       "    </tr>\n",
       "  </thead>\n",
       "  <tbody>\n",
       "    <tr>\n",
       "      <th>0</th>\n",
       "      <td>7bfd8bb51</td>\n",
       "      <td>dbgap</td>\n",
       "      <td>Ignored</td>\n",
       "    </tr>\n",
       "    <tr>\n",
       "      <th>1</th>\n",
       "      <td>7d3e31302</td>\n",
       "      <td>sass|sass data|school and staffing sass data|s...</td>\n",
       "      <td>Private</td>\n",
       "    </tr>\n",
       "    <tr>\n",
       "      <th>2</th>\n",
       "      <td>3644f959a</td>\n",
       "      <td>foodaps|national household food acquisition an...</td>\n",
       "      <td>Public</td>\n",
       "    </tr>\n",
       "    <tr>\n",
       "      <th>3</th>\n",
       "      <td>ed3527cf3</td>\n",
       "      <td>database of genotypes and phenotypes|database ...</td>\n",
       "      <td>Ignored</td>\n",
       "    </tr>\n",
       "    <tr>\n",
       "      <th>4</th>\n",
       "      <td>236061129</td>\n",
       "      <td>dbgap</td>\n",
       "      <td>Ignored</td>\n",
       "    </tr>\n",
       "    <tr>\n",
       "      <th>...</th>\n",
       "      <td>...</td>\n",
       "      <td>...</td>\n",
       "      <td>...</td>\n",
       "    </tr>\n",
       "    <tr>\n",
       "      <th>8058</th>\n",
       "      <td>3cb8b0e09</td>\n",
       "      <td>database of genotypes and phenotypes|database ...</td>\n",
       "      <td>Ignored</td>\n",
       "    </tr>\n",
       "    <tr>\n",
       "      <th>8059</th>\n",
       "      <td>324fe1310</td>\n",
       "      <td>dbgap</td>\n",
       "      <td>Ignored</td>\n",
       "    </tr>\n",
       "    <tr>\n",
       "      <th>8060</th>\n",
       "      <td>39e66a274</td>\n",
       "      <td>1000 genomes project|1000 genomes project 1000...</td>\n",
       "      <td>Private</td>\n",
       "    </tr>\n",
       "    <tr>\n",
       "      <th>8061</th>\n",
       "      <td>c411b1b6c</td>\n",
       "      <td>dbgap|american cancer society cancer preventio...</td>\n",
       "      <td>Public</td>\n",
       "    </tr>\n",
       "    <tr>\n",
       "      <th>8062</th>\n",
       "      <td>990d0ae2d</td>\n",
       "      <td>epa storage and retrieval storet data warehous...</td>\n",
       "      <td>Private</td>\n",
       "    </tr>\n",
       "  </tbody>\n",
       "</table>\n",
       "<p>8063 rows × 3 columns</p>\n",
       "</div>"
      ],
      "text/plain": [
       "             Id                                   PredictionString    Usage\n",
       "0     7bfd8bb51                                              dbgap  Ignored\n",
       "1     7d3e31302  sass|sass data|school and staffing sass data|s...  Private\n",
       "2     3644f959a  foodaps|national household food acquisition an...   Public\n",
       "3     ed3527cf3  database of genotypes and phenotypes|database ...  Ignored\n",
       "4     236061129                                              dbgap  Ignored\n",
       "...         ...                                                ...      ...\n",
       "8058  3cb8b0e09  database of genotypes and phenotypes|database ...  Ignored\n",
       "8059  324fe1310                                              dbgap  Ignored\n",
       "8060  39e66a274  1000 genomes project|1000 genomes project 1000...  Private\n",
       "8061  c411b1b6c  dbgap|american cancer society cancer preventio...   Public\n",
       "8062  990d0ae2d  epa storage and retrieval storet data warehous...  Private\n",
       "\n",
       "[8063 rows x 3 columns]"
      ]
     },
     "execution_count": 6,
     "metadata": {},
     "output_type": "execute_result"
    }
   ],
   "source": [
    "kaggle_validation"
   ]
  },
  {
   "cell_type": "code",
   "execution_count": 8,
   "metadata": {},
   "outputs": [],
   "source": [
    "ncses_mask = kaggle_validation[\"PredictionString\"].apply(lambda s: len(set(s.split(\"|\")).intersection(set(ncses_priorities_cleaned)))>0)\n",
    "\n",
    "ncses_mask.sum()\n",
    "\n",
    "kaggle_validation_ncses = kaggle_validation.loc[ncses_mask, :]"
   ]
  },
  {
   "cell_type": "code",
   "execution_count": 9,
   "metadata": {},
   "outputs": [
    {
     "data": {
      "text/html": [
       "<div>\n",
       "<style scoped>\n",
       "    .dataframe tbody tr th:only-of-type {\n",
       "        vertical-align: middle;\n",
       "    }\n",
       "\n",
       "    .dataframe tbody tr th {\n",
       "        vertical-align: top;\n",
       "    }\n",
       "\n",
       "    .dataframe thead th {\n",
       "        text-align: right;\n",
       "    }\n",
       "</style>\n",
       "<table border=\"1\" class=\"dataframe\">\n",
       "  <thead>\n",
       "    <tr style=\"text-align: right;\">\n",
       "      <th></th>\n",
       "      <th>Id</th>\n",
       "      <th>PredictionString</th>\n",
       "      <th>Usage</th>\n",
       "    </tr>\n",
       "  </thead>\n",
       "  <tbody>\n",
       "    <tr>\n",
       "      <th>46</th>\n",
       "      <td>d7d2d07d4</td>\n",
       "      <td>business r d and innovation survey|brdis|surve...</td>\n",
       "      <td>Public</td>\n",
       "    </tr>\n",
       "    <tr>\n",
       "      <th>57</th>\n",
       "      <td>b8f279039</td>\n",
       "      <td>business r d and innovation survey|r d|brdis|s...</td>\n",
       "      <td>Public</td>\n",
       "    </tr>\n",
       "    <tr>\n",
       "      <th>62</th>\n",
       "      <td>4b871ab7c</td>\n",
       "      <td>national survey of college graduates|decennial...</td>\n",
       "      <td>Public</td>\n",
       "    </tr>\n",
       "    <tr>\n",
       "      <th>64</th>\n",
       "      <td>152b44241</td>\n",
       "      <td>nscg|national survey of college graduates</td>\n",
       "      <td>Private</td>\n",
       "    </tr>\n",
       "    <tr>\n",
       "      <th>66</th>\n",
       "      <td>e18be232b</td>\n",
       "      <td>national survey of recent college graduates|na...</td>\n",
       "      <td>Public</td>\n",
       "    </tr>\n",
       "    <tr>\n",
       "      <th>...</th>\n",
       "      <td>...</td>\n",
       "      <td>...</td>\n",
       "      <td>...</td>\n",
       "    </tr>\n",
       "    <tr>\n",
       "      <th>8013</th>\n",
       "      <td>8799c68ad</td>\n",
       "      <td>nsf survey of federal funds for research and d...</td>\n",
       "      <td>Ignored</td>\n",
       "    </tr>\n",
       "    <tr>\n",
       "      <th>8019</th>\n",
       "      <td>c6fb73a43</td>\n",
       "      <td>national survey of college graduates|cgs gre s...</td>\n",
       "      <td>Public</td>\n",
       "    </tr>\n",
       "    <tr>\n",
       "      <th>8030</th>\n",
       "      <td>2355997d9</td>\n",
       "      <td>current population survey|nls72|nscg|national ...</td>\n",
       "      <td>Private</td>\n",
       "    </tr>\n",
       "    <tr>\n",
       "      <th>8040</th>\n",
       "      <td>ea59e8f5f</td>\n",
       "      <td>national survey of recent college graduates|be...</td>\n",
       "      <td>Public</td>\n",
       "    </tr>\n",
       "    <tr>\n",
       "      <th>8044</th>\n",
       "      <td>e2f5b7164</td>\n",
       "      <td>national survey of college graduates</td>\n",
       "      <td>Ignored</td>\n",
       "    </tr>\n",
       "  </tbody>\n",
       "</table>\n",
       "<p>394 rows × 3 columns</p>\n",
       "</div>"
      ],
      "text/plain": [
       "             Id                                   PredictionString    Usage\n",
       "46    d7d2d07d4  business r d and innovation survey|brdis|surve...   Public\n",
       "57    b8f279039  business r d and innovation survey|r d|brdis|s...   Public\n",
       "62    4b871ab7c  national survey of college graduates|decennial...   Public\n",
       "64    152b44241          nscg|national survey of college graduates  Private\n",
       "66    e18be232b  national survey of recent college graduates|na...   Public\n",
       "...         ...                                                ...      ...\n",
       "8013  8799c68ad  nsf survey of federal funds for research and d...  Ignored\n",
       "8019  c6fb73a43  national survey of college graduates|cgs gre s...   Public\n",
       "8030  2355997d9  current population survey|nls72|nscg|national ...  Private\n",
       "8040  ea59e8f5f  national survey of recent college graduates|be...   Public\n",
       "8044  e2f5b7164               national survey of college graduates  Ignored\n",
       "\n",
       "[394 rows x 3 columns]"
      ]
     },
     "execution_count": 9,
     "metadata": {},
     "output_type": "execute_result"
    }
   ],
   "source": [
    "valid_ids = kaggle_validation_ncses[\"Id\"].values\n",
    "kaggle_validation_ncses"
   ]
  },
  {
   "cell_type": "code",
   "execution_count": 10,
   "metadata": {},
   "outputs": [],
   "source": [
    "repo = kr.KaggleRepository()\n",
    "validation_dataframe = repo.get_validation_data()\n",
    "validation_dataframe_ncses = validation_dataframe.loc[validation_dataframe[\"id\"].isin(valid_ids), :]"
   ]
  },
  {
   "attachments": {},
   "cell_type": "markdown",
   "metadata": {},
   "source": [
    "### Model 3 \n",
    "\n",
    "Model 3 is the fastest model of all the Kaggle Models. It is also the most \n",
    "rigid. It uses a set of heuristics to extract datasets from a new set of \n",
    "Documents. In looking for datasets in documents, it is actually quite limited\n",
    "by employing a simple string search for the datasets.\n",
    "\n",
    "**Improving Model 3**\n",
    "\n",
    "An idea to improve this model, is to relax some of the contraints by using a\n",
    "regular expression. Rather doing a simple string search, we transform each of\n",
    "the datasets being search for into a regular expression. This allows us to\n",
    "be flexible about casing when we want to be, but remain strict when we it would\n",
    "be less helpful (e.g. acronyms that share a spelling with other common words)."
   ]
  },
  {
   "cell_type": "code",
   "execution_count": 17,
   "metadata": {},
   "outputs": [],
   "source": [
    "config = {\n",
    "    \"model_path\": \"../models/kaggle_model3/baseline/params.txt\",\n",
    "}"
   ]
  },
  {
   "cell_type": "code",
   "execution_count": 18,
   "metadata": {},
   "outputs": [
    {
     "data": {
      "text/plain": [
       "\n",
       "        Model Evaluation:\n",
       "\n",
       "        - Run time: 6.493399143218994 seconds, avg: 0.016480708485327396 seconds per sample\n",
       "        - True Postive Count: 554, avg: 1.4060913705583757 per sample\n",
       "        - Precision: 0.6367816091954023\n",
       "        - Recall: 0.17328745699092898\n",
       "        "
      ]
     },
     "execution_count": 18,
     "metadata": {},
     "output_type": "execute_result"
    }
   ],
   "source": [
    "evaluation = em.evaluate_model(\n",
    "    MockRepo(validation_dataframe_ncses.copy()),\n",
    "    km3.KaggleModel3(),\n",
    "    config,\n",
    ")\n",
    "evaluation"
   ]
  },
  {
   "cell_type": "code",
   "execution_count": 19,
   "metadata": {},
   "outputs": [
    {
     "data": {
      "text/plain": [
       "\n",
       "        Model Evaluation:\n",
       "\n",
       "        - Run time: 70.35855960845947 seconds, avg: 0.17857502438695297 seconds per sample\n",
       "        - True Postive Count: 1966, avg: 4.98984771573604 per sample\n",
       "        - Precision: 0.8920145190562614\n",
       "        - Recall: 0.6184334696445423\n",
       "        "
      ]
     },
     "execution_count": 19,
     "metadata": {},
     "output_type": "execute_result"
    }
   ],
   "source": [
    "evaluation_regex = em.evaluate_model(\n",
    "    MockRepo(validation_dataframe_ncses.copy()),\n",
    "    km3r.Kaggle3RegexInference(config),\n",
    "    config,\n",
    ")\n",
    "evaluation_regex"
   ]
  },
  {
   "attachments": {},
   "cell_type": "markdown",
   "metadata": {},
   "source": [
    "### Model 2\n",
    "\n",
    "Model 2 from the Kaggle competition can be broken into two parts. The first part\n",
    "performs *entity extraction* and the second part performs *entity\n",
    "classification*.\n",
    "\n",
    "*Entity Extraction*\n",
    "\n",
    "In the original submission, the entity extraction methodology was based on the\n",
    "[Schwartz & Hearst (2003)](https://pubmed.ncbi.nlm.nih.gov/12603049/) algorithm\n",
    "which is a algorithm for extracting abbreviations and definitions in biomedical\n",
    "text.\n",
    "\n",
    "*Entity Classification*\n",
    "\n",
    "To classify the extracted entities, the Model 2 fined tuned a\n",
    "[RobBERTa](https://arxiv.org/abs/1907.11692) model for sentence classification.\n",
    "The training dataset was hand curated by the team and consists a mix of entities\n",
    "that satisfy the entity extraction criteria. Some of which are datasets (e.g.\n",
    "United State of America (USA) and National Educational Longitudinal Study\n",
    "(NELS)).\n",
    "\n",
    "**Improving Model 2**\n",
    "\n",
    "To improve the approach in Model 2, we took a look at improving both the entity\n",
    "extraction and the entity classification algorithms. At a high level, we can\n",
    "imagine that the two parts of the algorithm have different purposes. Ideally\n",
    "the entity extraction algorithm will produce a high recall and the entity\n",
    "classification algorithm will produce a high precision.\n",
    "\n",
    "*Entity Extraction*\n",
    "\n",
    "The entity extraction algorithm was limited in two ways. First, the decision to\n",
    "use the Schwartz & Hearst (2003) algorithm was a generally good choice, but will\n",
    "neccsarily miss some entities. Namely, those that aren't idenitified using the\n",
    "form LONG NAME (ABBREVIATION). This approach will, by design, limit recall.\n",
    "Additionally, the implementation of the algorithm in the submission wasn't\n",
    "robust. To improve recall, we drop the schwartz & hearst algorithm and instead\n",
    "use a regular expression to extract entities. \n",
    "\n",
    "*Entity Classification*\n",
    "\n",
    "To improve the entity classification algorithm, we also fine tune a RobBERTa\n",
    "based transformer model, but also include the NCSES targeted datasets as\n",
    "positive training samples. A difficult limitation of this approach is that we're\n",
    "using a sentence classification model, but we're only feeding it a short amount \n",
    "of text. Additionally, there aren't a lot of postive training samples. We \n",
    "experimented with balancing the training dataset by oversampling the positive\n",
    "training samples, but this didn't improve the model's performance. Additionally, \n",
    "the training of model 2 wasn't very consistent using the same hyperparameters\n",
    "given by the authors.\n"
   ]
  },
  {
   "cell_type": "code",
   "execution_count": 11,
   "metadata": {},
   "outputs": [
    {
     "data": {
      "text/plain": [
       "\n",
       "        Model Evaluation:\n",
       "\n",
       "        - Run time: 313.28103828430176 seconds, avg: 0.795129538792644 seconds per sample\n",
       "        - True Postive Count: 222, avg: 0.5634517766497462 per sample\n",
       "        - Precision: 0.3881118881118881\n",
       "        - Recall: 0.06939668646452016\n",
       "        "
      ]
     },
     "execution_count": 11,
     "metadata": {},
     "output_type": "execute_result"
    }
   ],
   "source": [
    "\n",
    "reload(em)\n",
    "reload(shm)\n",
    "reload(km2)\n",
    "evaluation = em.evaluate_model(\n",
    "    MockRepo(validation_dataframe_ncses.copy()),\n",
    "    km2.KaggleModel2(),\n",
    "    dict(\n",
    "        pretrained_model=\"../models/kaggle_model2/models/kaggle_model2/baseline\",\n",
    "        min_prob=0.9,\n",
    "        extractor = shm.SchwartzHearstModel(),\n",
    "        extractor_config = dict(),\n",
    "    ),\n",
    "\n",
    ")\n",
    "evaluation"
   ]
  },
  {
   "cell_type": "code",
   "execution_count": 11,
   "metadata": {},
   "outputs": [
    {
     "data": {
      "text/plain": [
       "\n",
       "        Model Evaluation:\n",
       "\n",
       "        - Run time: 2270.1137869358063 seconds, avg: 5.761710119126412 seconds per sample\n",
       "        - True Postive Count: 1889, avg: 4.7944162436548226 per sample\n",
       "        - Precision: 0.4275690357627886\n",
       "        - Recall: 0.5921630094043887\n",
       "        "
      ]
     },
     "execution_count": 11,
     "metadata": {},
     "output_type": "execute_result"
    }
   ],
   "source": [
    "reload(km2)\n",
    "evaluation = em.evaluate_model(\n",
    "    MockRepo(validation_dataframe_ncses.copy()),\n",
    "    km2.KaggleModel2(),\n",
    "    dict(\n",
    "        batch_size=16,\n",
    "        pretrained_model=\"../models/kaggle_model2/models/kaggle_model2/accessible_slope\",\n",
    "        extractor = rm.RegexModel(config=dict()),\n",
    "        extractor_config = dict(),\n",
    "        min_prob=0.9,\n",
    "    ),\n",
    "\n",
    ")\n",
    "evaluation"
   ]
  },
  {
   "cell_type": "code",
   "execution_count": null,
   "metadata": {},
   "outputs": [],
   "source": []
  }
 ],
 "metadata": {
  "kernelspec": {
   "display_name": "democratizing-data-ml-algorithms",
   "language": "python",
   "name": "python3"
  },
  "language_info": {
   "codemirror_mode": {
    "name": "ipython",
    "version": 3
   },
   "file_extension": ".py",
   "mimetype": "text/x-python",
   "name": "python",
   "nbconvert_exporter": "python",
   "pygments_lexer": "ipython3",
   "version": "3.10.8"
  },
  "orig_nbformat": 4,
  "vscode": {
   "interpreter": {
    "hash": "2b291ab9446582050e02bff38bdb2cc08a6891ecc485df1df216546589a982e9"
   }
  }
 },
 "nbformat": 4,
 "nbformat_minor": 2
}
