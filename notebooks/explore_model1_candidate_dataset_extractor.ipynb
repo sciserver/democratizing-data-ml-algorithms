{
 "cells": [
  {
   "attachments": {},
   "cell_type": "markdown",
   "metadata": {},
   "source": [
    "### Extracting additional labels from text\n",
    "\n",
    "This notebook explores the first place Kaggle Submission's algorithm\n",
    "for extracting labels that we're not included in the training set.\n",
    "\n",
    "[notebook here](https://github.com/Coleridge-Initiative/rc-kaggle-models/blob/main/1st%20ZALO%20FTW/notebooks/get_candidate_labels.ipynb)\n",
    "\n",
    "The first place submission uses discovered labels for validation only\n",
    "and not for training. The code is an adaptation from the notebooks."
   ]
  },
  {
   "cell_type": "code",
   "execution_count": 1,
   "metadata": {},
   "outputs": [],
   "source": [
    "import json\n",
    "import regex as re\n",
    "from itertools import chain\n",
    "from typing import List\n",
    "\n",
    "import spacy\n",
    "import pandas as pd\n",
    "from tqdm import tqdm\n",
    "from unidecode import unidecode\n",
    "\n",
    "nlp = spacy.load('en_core_web_trf')"
   ]
  },
  {
   "cell_type": "code",
   "execution_count": 2,
   "metadata": {},
   "outputs": [
    {
     "data": {
      "text/html": [
       "<div>\n",
       "<style scoped>\n",
       "    .dataframe tbody tr th:only-of-type {\n",
       "        vertical-align: middle;\n",
       "    }\n",
       "\n",
       "    .dataframe tbody tr th {\n",
       "        vertical-align: top;\n",
       "    }\n",
       "\n",
       "    .dataframe thead th {\n",
       "        text-align: right;\n",
       "    }\n",
       "</style>\n",
       "<table border=\"1\" class=\"dataframe\">\n",
       "  <thead>\n",
       "    <tr style=\"text-align: right;\">\n",
       "      <th></th>\n",
       "      <th>Id</th>\n",
       "      <th>pub_title</th>\n",
       "      <th>dataset_title</th>\n",
       "      <th>dataset_label</th>\n",
       "      <th>cleaned_label</th>\n",
       "    </tr>\n",
       "  </thead>\n",
       "  <tbody>\n",
       "    <tr>\n",
       "      <th>0</th>\n",
       "      <td>d0fa7568-7d8e-4db9-870f-f9c6f668c17b</td>\n",
       "      <td>The Impact of Dual Enrollment on College Degre...</td>\n",
       "      <td>National Education Longitudinal Study</td>\n",
       "      <td>National Education Longitudinal Study</td>\n",
       "      <td>national education longitudinal study</td>\n",
       "    </tr>\n",
       "    <tr>\n",
       "      <th>1</th>\n",
       "      <td>2f26f645-3dec-485d-b68d-f013c9e05e60</td>\n",
       "      <td>Educational Attainment of High School Dropouts...</td>\n",
       "      <td>National Education Longitudinal Study</td>\n",
       "      <td>National Education Longitudinal Study</td>\n",
       "      <td>national education longitudinal study</td>\n",
       "    </tr>\n",
       "  </tbody>\n",
       "</table>\n",
       "</div>"
      ],
      "text/plain": [
       "                                     Id  \\\n",
       "0  d0fa7568-7d8e-4db9-870f-f9c6f668c17b   \n",
       "1  2f26f645-3dec-485d-b68d-f013c9e05e60   \n",
       "\n",
       "                                           pub_title  \\\n",
       "0  The Impact of Dual Enrollment on College Degre...   \n",
       "1  Educational Attainment of High School Dropouts...   \n",
       "\n",
       "                           dataset_title  \\\n",
       "0  National Education Longitudinal Study   \n",
       "1  National Education Longitudinal Study   \n",
       "\n",
       "                           dataset_label  \\\n",
       "0  National Education Longitudinal Study   \n",
       "1  National Education Longitudinal Study   \n",
       "\n",
       "                           cleaned_label  \n",
       "0  national education longitudinal study  \n",
       "1  national education longitudinal study  "
      ]
     },
     "execution_count": 2,
     "metadata": {},
     "output_type": "execute_result"
    }
   ],
   "source": [
    "kaggle_labels = pd.read_csv(\"../data/kaggle/train.csv\")\n",
    "kaggle_labels.head(2)"
   ]
  },
  {
   "cell_type": "code",
   "execution_count": 3,
   "metadata": {},
   "outputs": [
    {
     "data": {
      "text/html": [
       "<div>\n",
       "<style scoped>\n",
       "    .dataframe tbody tr th:only-of-type {\n",
       "        vertical-align: middle;\n",
       "    }\n",
       "\n",
       "    .dataframe tbody tr th {\n",
       "        vertical-align: top;\n",
       "    }\n",
       "\n",
       "    .dataframe thead th {\n",
       "        text-align: right;\n",
       "    }\n",
       "</style>\n",
       "<table border=\"1\" class=\"dataframe\">\n",
       "  <thead>\n",
       "    <tr style=\"text-align: right;\">\n",
       "      <th></th>\n",
       "      <th>id</th>\n",
       "      <th>label</th>\n",
       "    </tr>\n",
       "  </thead>\n",
       "  <tbody>\n",
       "    <tr>\n",
       "      <th>0</th>\n",
       "      <td>d0fa7568-7d8e-4db9-870f-f9c6f668c17b</td>\n",
       "      <td>National Education Longitudinal Study|Educatio...</td>\n",
       "    </tr>\n",
       "    <tr>\n",
       "      <th>1</th>\n",
       "      <td>2f26f645-3dec-485d-b68d-f013c9e05e60</td>\n",
       "      <td>National Education Longitudinal Study|Educatio...</td>\n",
       "    </tr>\n",
       "  </tbody>\n",
       "</table>\n",
       "</div>"
      ],
      "text/plain": [
       "                                     id  \\\n",
       "0  d0fa7568-7d8e-4db9-870f-f9c6f668c17b   \n",
       "1  2f26f645-3dec-485d-b68d-f013c9e05e60   \n",
       "\n",
       "                                               label  \n",
       "0  National Education Longitudinal Study|Educatio...  \n",
       "1  National Education Longitudinal Study|Educatio...  "
      ]
     },
     "execution_count": 3,
     "metadata": {},
     "output_type": "execute_result"
    }
   ],
   "source": [
    "aggregated_labels = pd.DataFrame({\"id\": kaggle_labels[\"Id\"].unique()})\n",
    "\n",
    "def aggregate_clean_label(row: pd.DataFrame):\n",
    "    labels = list(map(lambda x: x.strip(), row[\"dataset_label\"].unique()))\n",
    "    return \"|\".join(labels)\n",
    "\n",
    "unique_labels = kaggle_labels.groupby(\"Id\").apply(aggregate_clean_label)\n",
    "aggregated_labels[\"label\"] = aggregated_labels[\"id\"].apply(lambda x: unique_labels[x])\n",
    "aggregated_labels.head(2)"
   ]
  },
  {
   "cell_type": "code",
   "execution_count": 4,
   "metadata": {},
   "outputs": [],
   "source": [
    "def get_text(document_id: str) -> str:\n",
    "    with open(\"../data/kaggle/train/\" + document_id + \".json\") as f:\n",
    "        document = json.load(f)\n",
    "\n",
    "    text = unidecode(\" \".join(list(map(\n",
    "        lambda x: x[\"text\"].strip().replace(\"\\n\", \" \"), \n",
    "        document\n",
    "    ))))\n",
    "\n",
    "    return text"
   ]
  },
  {
   "cell_type": "code",
   "execution_count": 5,
   "metadata": {},
   "outputs": [
    {
     "data": {
      "text/plain": [
       "'This study used data from the National Education Longitudinal Study (NELS:88) to examine the effects'"
      ]
     },
     "execution_count": 5,
     "metadata": {},
     "output_type": "execute_result"
    }
   ],
   "source": [
    "text = get_text(\"d0fa7568-7d8e-4db9-870f-f9c6f668c17b\")\n",
    "text[:100]"
   ]
  },
  {
   "attachments": {},
   "cell_type": "markdown",
   "metadata": {},
   "source": [
    "The description from the notebook says that candidates are selected in the \n",
    "following way:\n",
    "\n",
    "```\n",
    "2. (Optional) We detect the keywords (Dataset, Database, Study, Survey, ...) \n",
    "position in the input string then look forward/backward of that keyword util\n",
    "meet two consecutive lowercase words.\n",
    "```\n",
    "\n",
    "Let's try using the entity extraction model and then filter those by the\n",
    "selected keywords. That seems analogous to what the first place submission does."
   ]
  },
  {
   "cell_type": "code",
   "execution_count": 6,
   "metadata": {},
   "outputs": [],
   "source": [
    "from importlib import reload\n",
    "import src.models.regex_model as rm\n",
    "import src.data.kaggle_repository as kr"
   ]
  },
  {
   "cell_type": "code",
   "execution_count": 7,
   "metadata": {},
   "outputs": [],
   "source": [
    "model = rm.RegexModel(config={})\n",
    "repo = kr.KaggleRepository()\n",
    "data = repo.get_training_data()"
   ]
  },
  {
   "cell_type": "code",
   "execution_count": 8,
   "metadata": {},
   "outputs": [],
   "source": [
    "outputs = model.inference({}, data)"
   ]
  },
  {
   "cell_type": "code",
   "execution_count": 9,
   "metadata": {},
   "outputs": [],
   "source": [
    "from functools import partial\n",
    "\n",
    "\n",
    "keywords = [\n",
    "    \"Database\", \"Dataset\", \"Databases\", \"Datasets\",\n",
    "    \"Data Set\", \"Data System\", \"Data Systems\", \"Data Sets\", \"Dataset System\", \"Dataset Systems\",\n",
    "    \"Survey\", \"Surveys\", \"Study\", \"Studies\",\n",
    "]\n",
    "\n",
    "def filter_labels_by_keywords(keywords:List[str], row:pd.DataFrame) -> str:\n",
    "    preds = row[\"model_prediction\"].strip().split(\"|\")\n",
    "    filtered = list(filter(lambda x: any(map(lambda y: y in x, keywords)), preds))\n",
    "    labels = row[\"label\"].strip().split(\"|\")\n",
    "    not_already_listed = list(filter(lambda x: x.lower() not in labels, filtered))\n",
    "\n",
    "    return \"|\".join(not_already_listed) if len(not_already_listed) else \"\"\n",
    "\n",
    "fitler_f = partial(filter_labels_by_keywords, keywords)\n",
    "outputs[\"filtered\"] = outputs.apply(fitler_f, axis=1)"
   ]
  },
  {
   "cell_type": "markdown",
   "metadata": {},
   "source": [
    "Let's see what we caught that may have been missed by the original run \n",
    "through."
   ]
  },
  {
   "cell_type": "code",
   "execution_count": 10,
   "metadata": {},
   "outputs": [
    {
     "data": {
      "text/html": [
       "<div>\n",
       "<style scoped>\n",
       "    .dataframe tbody tr th:only-of-type {\n",
       "        vertical-align: middle;\n",
       "    }\n",
       "\n",
       "    .dataframe tbody tr th {\n",
       "        vertical-align: top;\n",
       "    }\n",
       "\n",
       "    .dataframe thead th {\n",
       "        text-align: right;\n",
       "    }\n",
       "</style>\n",
       "<table border=\"1\" class=\"dataframe\">\n",
       "  <thead>\n",
       "    <tr style=\"text-align: right;\">\n",
       "      <th></th>\n",
       "      <th>id</th>\n",
       "      <th>label</th>\n",
       "      <th>filtered</th>\n",
       "    </tr>\n",
       "  </thead>\n",
       "  <tbody>\n",
       "    <tr>\n",
       "      <th>0</th>\n",
       "      <td>5b466b5d-6b6f-48cf-8364-3893ce09c8ec</td>\n",
       "      <td>common core of data</td>\n",
       "      <td>American Community Survey (ACS)|Census Bureau'...</td>\n",
       "    </tr>\n",
       "    <tr>\n",
       "      <th>1</th>\n",
       "      <td>0a2c7004-f763-4846-b95f-1fdf537f8a04</td>\n",
       "      <td>agricultural resource management survey</td>\n",
       "      <td>Agricultural Resource Management Survey (ARMS)</td>\n",
       "    </tr>\n",
       "    <tr>\n",
       "      <th>2</th>\n",
       "      <td>86cef975-b9a2-44c7-a480-cbe918e72159</td>\n",
       "      <td>early childhood longitudinal study</td>\n",
       "      <td>NICHD Study of Early Child Care and Youth Deve...</td>\n",
       "    </tr>\n",
       "    <tr>\n",
       "      <th>3</th>\n",
       "      <td>baec0fbc-4ef7-4b27-af66-843d393640bd</td>\n",
       "      <td>national water level observation network</td>\n",
       "      <td></td>\n",
       "    </tr>\n",
       "    <tr>\n",
       "      <th>4</th>\n",
       "      <td>24a55c45-eaf8-4066-98e3-349c6eff6186</td>\n",
       "      <td>adni|alzheimer's disease neuroimaging initiati...</td>\n",
       "      <td></td>\n",
       "    </tr>\n",
       "    <tr>\n",
       "      <th>...</th>\n",
       "      <td>...</td>\n",
       "      <td>...</td>\n",
       "      <td>...</td>\n",
       "    </tr>\n",
       "    <tr>\n",
       "      <th>11447</th>\n",
       "      <td>e1c78694-d96b-487f-b445-fd692c5fb84e</td>\n",
       "      <td>adni</td>\n",
       "      <td></td>\n",
       "    </tr>\n",
       "    <tr>\n",
       "      <th>11448</th>\n",
       "      <td>10a7d47c-cd38-4763-bb4b-e5804a670b90</td>\n",
       "      <td>our world in data</td>\n",
       "      <td></td>\n",
       "    </tr>\n",
       "    <tr>\n",
       "      <th>11449</th>\n",
       "      <td>622123b8-bed9-4f4f-b026-158e552f0839</td>\n",
       "      <td>adni|alzheimer's disease neuroimaging initiati...</td>\n",
       "      <td></td>\n",
       "    </tr>\n",
       "    <tr>\n",
       "      <th>11450</th>\n",
       "      <td>90dad306-ae3b-4016-9f60-cf45d76bc0f2</td>\n",
       "      <td>baltimore longitudinal study of aging (blsa)|b...</td>\n",
       "      <td>Framingham Heart Study |National Health and Nu...</td>\n",
       "    </tr>\n",
       "    <tr>\n",
       "      <th>11451</th>\n",
       "      <td>658961ee-b999-48f4-948b-6f06eea2c870</td>\n",
       "      <td>trends in international mathematics and scienc...</td>\n",
       "      <td></td>\n",
       "    </tr>\n",
       "  </tbody>\n",
       "</table>\n",
       "<p>11452 rows × 3 columns</p>\n",
       "</div>"
      ],
      "text/plain": [
       "                                         id  \\\n",
       "0      5b466b5d-6b6f-48cf-8364-3893ce09c8ec   \n",
       "1      0a2c7004-f763-4846-b95f-1fdf537f8a04   \n",
       "2      86cef975-b9a2-44c7-a480-cbe918e72159   \n",
       "3      baec0fbc-4ef7-4b27-af66-843d393640bd   \n",
       "4      24a55c45-eaf8-4066-98e3-349c6eff6186   \n",
       "...                                     ...   \n",
       "11447  e1c78694-d96b-487f-b445-fd692c5fb84e   \n",
       "11448  10a7d47c-cd38-4763-bb4b-e5804a670b90   \n",
       "11449  622123b8-bed9-4f4f-b026-158e552f0839   \n",
       "11450  90dad306-ae3b-4016-9f60-cf45d76bc0f2   \n",
       "11451  658961ee-b999-48f4-948b-6f06eea2c870   \n",
       "\n",
       "                                                   label  \\\n",
       "0                                    common core of data   \n",
       "1                agricultural resource management survey   \n",
       "2                     early childhood longitudinal study   \n",
       "3               national water level observation network   \n",
       "4      adni|alzheimer's disease neuroimaging initiati...   \n",
       "...                                                  ...   \n",
       "11447                                               adni   \n",
       "11448                                  our world in data   \n",
       "11449  adni|alzheimer's disease neuroimaging initiati...   \n",
       "11450  baltimore longitudinal study of aging (blsa)|b...   \n",
       "11451  trends in international mathematics and scienc...   \n",
       "\n",
       "                                                filtered  \n",
       "0      American Community Survey (ACS)|Census Bureau'...  \n",
       "1         Agricultural Resource Management Survey (ARMS)  \n",
       "2      NICHD Study of Early Child Care and Youth Deve...  \n",
       "3                                                         \n",
       "4                                                         \n",
       "...                                                  ...  \n",
       "11447                                                     \n",
       "11448                                                     \n",
       "11449                                                     \n",
       "11450  Framingham Heart Study |National Health and Nu...  \n",
       "11451                                                     \n",
       "\n",
       "[11452 rows x 3 columns]"
      ]
     },
     "execution_count": 10,
     "metadata": {},
     "output_type": "execute_result"
    }
   ],
   "source": [
    "outputs.loc[:, [\"id\", \"label\", \"filtered\"]]"
   ]
  },
  {
   "cell_type": "code",
   "execution_count": 11,
   "metadata": {},
   "outputs": [
    {
     "data": {
      "text/plain": [
       "array([['5b466b5d-6b6f-48cf-8364-3893ce09c8ec', 'common core of data',\n",
       "        \"American Community Survey (ACS)|Census Bureau's Center for Economic Studies |American Community Survey\"]],\n",
       "      dtype=object)"
      ]
     },
     "execution_count": 11,
     "metadata": {},
     "output_type": "execute_result"
    }
   ],
   "source": [
    "outputs.loc[outputs[\"id\"]==\"5b466b5d-6b6f-48cf-8364-3893ce09c8ec\", [\"id\", \"label\", \"filtered\"]].values"
   ]
  },
  {
   "cell_type": "markdown",
   "metadata": {},
   "source": [
    "Let's look at some of the examples\n",
    "\n",
    "In `5b466b5d-6b6f-48cf-8364-3893ce09c8ec`, the listed labels are: \n",
    "- `common core of data`\n",
    "\n",
    "The candidate labels are:\n",
    "- `American Community Survey (ACS)` (https://www.census.gov/programs-surveys/acs/) This seems to be a dataset\n",
    "- `Census Bureau's Center for Economic Studies` This seems to be a false positive\n",
    "- `American Community Survey` (https://www.census.gov/programs-surveys/acs/) This seems to be a dataset\n",
    "\n",
    "The approach used in first place submission exlcudes these from training, which seems to be a good idea."
   ]
  },
  {
   "attachments": {},
   "cell_type": "markdown",
   "metadata": {},
   "source": [
    "Let's convert a document into: `positive`, `negative`, and `candidate` samples"
   ]
  },
  {
   "cell_type": "code",
   "execution_count": 12,
   "metadata": {},
   "outputs": [
    {
     "data": {
      "text/plain": [
       "spacy.lang.en.English"
      ]
     },
     "execution_count": 12,
     "metadata": {},
     "output_type": "execute_result"
    }
   ],
   "source": [
    "type(nlp)"
   ]
  },
  {
   "cell_type": "code",
   "execution_count": 13,
   "metadata": {},
   "outputs": [],
   "source": [
    "\n",
    "\n",
    "\n",
    "def detect_labels(labels:List[re.Pattern], sentence:str) -> List[List[str]]:\n",
    "    return list(map(\n",
    "        lambda match: match.captures(), # It's possible to have more than one match\n",
    "        filter(\n",
    "            bool,\n",
    "            map(\n",
    "                lambda rl: rl.search(sentence),\n",
    "                labels\n",
    "            )\n",
    "        )\n",
    "    ))\n",
    "\n",
    "def tag_sentence(regex_labels:List[re.Pattern], sentence:spacy.tokens.span.Span):\n",
    "    match_lists = sorted(\n",
    "        detect_labels(regex_labels, sentence.text), \n",
    "        key=lambda x: max(map(len, x)), \n",
    "        reverse=True\n",
    "    )\n",
    "\n",
    "    tokens = [token.text for token in sentence]\n",
    "    tags = [token.tag_ for token in sentence]\n",
    "    ner_tags = [\"O\"] * len(sentence) # assume no match\n",
    "\n",
    "    for match in chain.from_iterable(match_lists):\n",
    "        label_tokens = nlp(match)\n",
    "        start_idx = tokens.index(label_tokens[0].text)\n",
    "        idxs = list(range(start_idx, start_idx + len(label_tokens)))\n",
    "\n",
    "\n",
    "        first_tag = ner_tags[start_idx]\n",
    "        prev_tag = ner_tags[start_idx - 1] if start_idx > 0 else \"O\"\n",
    "        # If there are any tokens that are already marked then this match\n",
    "        # could be a subset of another match\n",
    "        if not any(map(lambda x: x!=\"O\", ner_tags[start_idx: start_idx + len(label_tokens)])):\n",
    "\n",
    "            if prev_tag==\"O\":\n",
    "                ner_tags[start_idx] = \"I-DAT\"\n",
    "            else:\n",
    "                ner_tags[start_idx] = \"B-DAT\"\n",
    "\n",
    "            for idx in idxs[1:]:\n",
    "                ner_tags[idx] = \"I-DAT\"\n",
    "\n",
    "    return tokens, tags, ner_tags\n",
    "\n",
    "def expand_row(nlp:spacy.lang.en.English, row:pd.DataFrame) -> pd.DataFrame:\n",
    "    labels = row[\"label\"].strip().split(\"|\")\n",
    "    candidate_labels = row[\"filtered\"].strip().split(\"|\")\n",
    "\n",
    "    regex_labels = list(map(\n",
    "        re.compile,\n",
    "        map(\n",
    "            rm.RegexModel.regexify_keyword,\n",
    "            labels\n",
    "        )\n",
    "    ))\n",
    "\n",
    "    regex_candidate_labels = list(map(\n",
    "        re.compile,\n",
    "        map(\n",
    "            rm.RegexModel.regexify_keyword,\n",
    "            candidate_labels\n",
    "        )\n",
    "    ))\n",
    "\n",
    "    # process the text so that it can be turned into sentences and tokenized\n",
    "    text = unidecode(row[\"text\"]).strip()\n",
    "    processed = nlp(text)\n",
    "\n",
    "    \n",
    "\n"
   ]
  },
  {
   "cell_type": "code",
   "execution_count": null,
   "metadata": {},
   "outputs": [],
   "source": []
  }
 ],
 "metadata": {
  "kernelspec": {
   "display_name": "democratizing-data-ml-algorithms",
   "language": "python",
   "name": "python3"
  },
  "language_info": {
   "codemirror_mode": {
    "name": "ipython",
    "version": 3
   },
   "file_extension": ".py",
   "mimetype": "text/x-python",
   "name": "python",
   "nbconvert_exporter": "python",
   "pygments_lexer": "ipython3",
   "version": "3.10.8"
  },
  "orig_nbformat": 4,
  "vscode": {
   "interpreter": {
    "hash": "2b291ab9446582050e02bff38bdb2cc08a6891ecc485df1df216546589a982e9"
   }
  }
 },
 "nbformat": 4,
 "nbformat_minor": 2
}
