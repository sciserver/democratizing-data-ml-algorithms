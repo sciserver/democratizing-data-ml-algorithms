{
 "cells": [
  {
   "cell_type": "markdown",
   "metadata": {},
   "source": [
    "# Kaggle 3: Sentence-level Substring Matching vs Regex"
   ]
  },
  {
   "cell_type": "code",
   "execution_count": 1,
   "metadata": {},
   "outputs": [],
   "source": [
    "\n",
    "import democratizing_data_ml_algorithms.models.kaggle_model3 as km3\n",
    "import democratizing_data_ml_algorithms.models.kaggle_model3_regex_inference as km3r\n",
    "import democratizing_data_ml_algorithms.evaluate.model as em\n",
    "from democratizing_data_ml_algorithms.data.kaggle_repository import KaggleRepository"
   ]
  },
  {
   "cell_type": "code",
   "execution_count": 2,
   "metadata": {},
   "outputs": [],
   "source": [
    "config = {\n",
    "    \"model_path\": \"../models/kaggle_model3/baseline/params.txt\",\n",
    "}\n",
    "\n",
    "repo = KaggleRepository()"
   ]
  },
  {
   "cell_type": "code",
   "execution_count": 3,
   "metadata": {},
   "outputs": [
    {
     "data": {
      "text/plain": [
       "\n",
       "        Model Evaluation:\n",
       "\n",
       "        - Run time: 42.66263294219971 seconds, avg: 0.005291161223142714 seconds per sample\n",
       "        - True Postive Count: 2446, avg: 0.3033610318739923 per sample\n",
       "        - Precision: 0.9012527634487841\n",
       "        - Recall: 0.06857110818311794\n",
       "        "
      ]
     },
     "execution_count": 3,
     "metadata": {},
     "output_type": "execute_result"
    }
   ],
   "source": [
    "evaluation = em.evaluate_model(\n",
    "    repo,\n",
    "    km3.KaggleModel3(),\n",
    "    config,\n",
    ")\n",
    "evaluation"
   ]
  },
  {
   "cell_type": "code",
   "execution_count": 5,
   "metadata": {},
   "outputs": [],
   "source": [
    "# import pandas as pd\n",
    "\n",
    "# merged_df = pd.DataFrame({\n",
    "#     \"id\": stats.loc[:, [\"id\"]].values.flatten(),\n",
    "# })\n",
    "\n",
    "# merged_df[\"label\"] = merged_df[\"id\"].apply(\n",
    "#     lambda _id: stats.loc[stats[\"id\"] == _id, \"label\"].values[0]\n",
    "# )\n"
   ]
  },
  {
   "cell_type": "code",
   "execution_count": 16,
   "metadata": {},
   "outputs": [
    {
     "data": {
      "text/html": [
       "<div>\n",
       "<style scoped>\n",
       "    .dataframe tbody tr th:only-of-type {\n",
       "        vertical-align: middle;\n",
       "    }\n",
       "\n",
       "    .dataframe tbody tr th {\n",
       "        vertical-align: top;\n",
       "    }\n",
       "\n",
       "    .dataframe thead th {\n",
       "        text-align: right;\n",
       "    }\n",
       "</style>\n",
       "<table border=\"1\" class=\"dataframe\">\n",
       "  <thead>\n",
       "    <tr style=\"text-align: right;\">\n",
       "      <th></th>\n",
       "      <th>id</th>\n",
       "      <th>statistics</th>\n",
       "    </tr>\n",
       "  </thead>\n",
       "  <tbody>\n",
       "    <tr>\n",
       "      <th>0</th>\n",
       "      <td>7bfd8bb51</td>\n",
       "      <td>{'labels': ['dbgap'], 'stats': ['FN']}</td>\n",
       "    </tr>\n",
       "    <tr>\n",
       "      <th>1</th>\n",
       "      <td>7d3e31302</td>\n",
       "      <td>{'labels': ['sass', 'sass data', 'school and s...</td>\n",
       "    </tr>\n",
       "    <tr>\n",
       "      <th>2</th>\n",
       "      <td>3644f959a</td>\n",
       "      <td>{'labels': ['arms', 'arms data', 'agricultural...</td>\n",
       "    </tr>\n",
       "    <tr>\n",
       "      <th>3</th>\n",
       "      <td>ed3527cf3</td>\n",
       "      <td>{'labels': ['database of genotypes and phenoty...</td>\n",
       "    </tr>\n",
       "    <tr>\n",
       "      <th>4</th>\n",
       "      <td>236061129</td>\n",
       "      <td>{'labels': ['dbgap'], 'stats': ['FN']}</td>\n",
       "    </tr>\n",
       "    <tr>\n",
       "      <th>...</th>\n",
       "      <td>...</td>\n",
       "      <td>...</td>\n",
       "    </tr>\n",
       "    <tr>\n",
       "      <th>8058</th>\n",
       "      <td>3cb8b0e09</td>\n",
       "      <td>{'labels': ['database of genotypes and phenoty...</td>\n",
       "    </tr>\n",
       "    <tr>\n",
       "      <th>8059</th>\n",
       "      <td>324fe1310</td>\n",
       "      <td>{'labels': ['dbgap'], 'stats': ['FN']}</td>\n",
       "    </tr>\n",
       "    <tr>\n",
       "      <th>8060</th>\n",
       "      <td>39e66a274</td>\n",
       "      <td>{'labels': ['1000 genomes project', '1000 geno...</td>\n",
       "    </tr>\n",
       "    <tr>\n",
       "      <th>8061</th>\n",
       "      <td>c411b1b6c</td>\n",
       "      <td>{'labels': ['dbgap', 'american cancer society ...</td>\n",
       "    </tr>\n",
       "    <tr>\n",
       "      <th>8062</th>\n",
       "      <td>990d0ae2d</td>\n",
       "      <td>{'labels': ['epa storage and retrieval storet ...</td>\n",
       "    </tr>\n",
       "  </tbody>\n",
       "</table>\n",
       "<p>8063 rows × 2 columns</p>\n",
       "</div>"
      ],
      "text/plain": [
       "             id                                         statistics\n",
       "0     7bfd8bb51             {'labels': ['dbgap'], 'stats': ['FN']}\n",
       "1     7d3e31302  {'labels': ['sass', 'sass data', 'school and s...\n",
       "2     3644f959a  {'labels': ['arms', 'arms data', 'agricultural...\n",
       "3     ed3527cf3  {'labels': ['database of genotypes and phenoty...\n",
       "4     236061129             {'labels': ['dbgap'], 'stats': ['FN']}\n",
       "...         ...                                                ...\n",
       "8058  3cb8b0e09  {'labels': ['database of genotypes and phenoty...\n",
       "8059  324fe1310             {'labels': ['dbgap'], 'stats': ['FN']}\n",
       "8060  39e66a274  {'labels': ['1000 genomes project', '1000 geno...\n",
       "8061  c411b1b6c  {'labels': ['dbgap', 'american cancer society ...\n",
       "8062  990d0ae2d  {'labels': ['epa storage and retrieval storet ...\n",
       "\n",
       "[8063 rows x 2 columns]"
      ]
     },
     "execution_count": 16,
     "metadata": {},
     "output_type": "execute_result"
    }
   ],
   "source": [
    "# def merge_single_stat(this:str, that:str, lbl:str) -> str:\n",
    "#     if this == \"TP\" or that == \"TP\":\n",
    "#         return \"TP\"\n",
    "#     elif this != that:\n",
    "#         raise ValueError(\"Inconsistent stats for label: {}. got {} - {}\".format(lbl, this, that))\n",
    "#     else:\n",
    "#         return this\n",
    "\n",
    "\n",
    "# def merge_stats(row:pd.DataFrame):\n",
    "#     _id = row[\"id\"]\n",
    "#     self_labels = row[\"statistics_self\"][\"labels\"]\n",
    "#     other_labels = row[\"statistics_other\"][\"labels\"]\n",
    "#     self_stats = row[\"statistics_self\"][\"stats\"]\n",
    "#     other_stats = row[\"statistics_other\"][\"stats\"]\n",
    "\n",
    "#     merged_lbls = []\n",
    "#     merged_stats = []\n",
    "#     for self_lbl in self_labels:\n",
    "#         self_stat = self_stats[self_labels.index(self_lbl)]\n",
    "#         merged_lbls.append(self_lbl)\n",
    "        \n",
    "#         if self_lbl in other_labels:\n",
    "#             merged_stats.append(merge_single_stat(\n",
    "#                 self_stat, \n",
    "#                 other_stats[other_labels.index(self_lbl)], \n",
    "#                 self_lbl,\n",
    "#             ))\n",
    "#         else:\n",
    "#             merged_stats.append(self_stat)\n",
    "\n",
    "#     for other_lbl in set(other_labels) - set(self_labels):\n",
    "#         other_stat = other_stats[other_labels.index(other_lbl)]\n",
    "#         merged_lbls.append(other_lbl)\n",
    "#         merged_stats.append(other_stat)\n",
    "\n",
    "#     return {\"id\":_id, \"statistics\": dict(labels=merged_lbls, stats=merged_stats)}\n",
    "\n",
    "# stats.loc[:, [\"id\", \"statistics\"]].merge(\n",
    "#     stats.loc[:, [\"id\", \"statistics\"]],\n",
    "#     on=\"id\",\n",
    "#     suffixes=(\"_self\", \"_other\"),\n",
    "# ).apply(merge_stats, axis=1, result_type=\"expand\")"
   ]
  },
  {
   "cell_type": "code",
   "execution_count": 4,
   "metadata": {},
   "outputs": [
    {
     "data": {
      "text/plain": [
       "\n",
       "        Model Evaluation:\n",
       "\n",
       "        - Run time: 723.7678065299988 seconds, avg: 0.08976408365744745 seconds per sample\n",
       "        - True Postive Count: 6977, avg: 0.8653106784075406 per sample\n",
       "        - Precision: 0.9998566924620235\n",
       "        - Recall: 0.19591710659328315\n",
       "        "
      ]
     },
     "execution_count": 4,
     "metadata": {},
     "output_type": "execute_result"
    }
   ],
   "source": [
    "evaluation_regex = em.evaluate_model(\n",
    "    repo,\n",
    "    km3r.Kaggle3RegexInference(config),\n",
    "    config,\n",
    ")\n",
    "evaluation_regex"
   ]
  },
  {
   "cell_type": "code",
   "execution_count": 5,
   "metadata": {},
   "outputs": [
    {
     "data": {
      "text/plain": [
       "\n",
       "        Model Evaluation:\n",
       "\n",
       "        - Run time: 766.4304394721985 seconds, avg: 0.09505524488059017 seconds per sample\n",
       "        - True Postive Count: 7041, avg: 0.8732481706560833 per sample\n",
       "        - Precision: 0.9632010943912449\n",
       "        - Recall: 0.19738723332679206\n",
       "        "
      ]
     },
     "execution_count": 5,
     "metadata": {},
     "output_type": "execute_result"
    }
   ],
   "source": [
    "evaluation | evaluation_regex"
   ]
  },
  {
   "cell_type": "code",
   "execution_count": null,
   "metadata": {},
   "outputs": [],
   "source": []
  }
 ],
 "metadata": {
  "kernelspec": {
   "display_name": "Python 3.10.8 ('democratizingdata-ml-algo')",
   "language": "python",
   "name": "python3"
  },
  "language_info": {
   "codemirror_mode": {
    "name": "ipython",
    "version": 3
   },
   "file_extension": ".py",
   "mimetype": "text/x-python",
   "name": "python",
   "nbconvert_exporter": "python",
   "pygments_lexer": "ipython3",
   "version": "3.10.8"
  },
  "orig_nbformat": 4,
  "vscode": {
   "interpreter": {
    "hash": "b3e03aa19f4cee1cca181f326aea7726af1ea307b5fcbfd54a41f945b089b370"
   }
  }
 },
 "nbformat": 4,
 "nbformat_minor": 2
}
