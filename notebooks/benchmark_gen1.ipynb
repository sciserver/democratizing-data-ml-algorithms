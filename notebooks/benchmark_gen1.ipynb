{
 "cells": [
  {
   "cell_type": "code",
   "execution_count": 1,
   "metadata": {},
   "outputs": [
    {
     "name": "stderr",
     "output_type": "stream",
     "text": [
      "2023-03-01 15:37:48.908281: I tensorflow/core/platform/cpu_feature_guard.cc:193] This TensorFlow binary is optimized with oneAPI Deep Neural Network Library (oneDNN) to use the following CPU instructions in performance-critical operations:  SSE4.1 SSE4.2 AVX AVX2 FMA\n",
      "To enable them in other operations, rebuild TensorFlow with the appropriate compiler flags.\n"
     ]
    }
   ],
   "source": [
    "from importlib import reload\n",
    "\n",
    "import pandas as pd\n",
    "\n",
    "import democratizing_data_ml_algorithms.data.kaggle_repository as kr\n",
    "import democratizing_data_ml_algorithms.evaluate.model as em\n",
    "import democratizing_data_ml_algorithms.models.generic_model1 as gm1"
   ]
  },
  {
   "cell_type": "code",
   "execution_count": 2,
   "metadata": {},
   "outputs": [],
   "source": [
    "class MockRepo:\n",
    "    def __init__(self, df):\n",
    "        self.df = df\n",
    "    def get_validation_data(self):\n",
    "        return self.df\n",
    "    def copy(self):\n",
    "        return MockRepo(self.df.copy())\n",
    "        \n",
    "repo = MockRepo(kr.KaggleRepository().get_validation_data().iloc[:10])"
   ]
  },
  {
   "cell_type": "code",
   "execution_count": 21,
   "metadata": {},
   "outputs": [
    {
     "data": {
      "text/plain": [
       "<module 'src.models.generic_model1' from '/home/ryanhausen/repos/democratizingdata-ml-algorithms/src/models/generic_model1.py'>"
      ]
     },
     "execution_count": 21,
     "metadata": {},
     "output_type": "execute_result"
    }
   ],
   "source": [
    "reload(gm1)"
   ]
  },
  {
   "cell_type": "code",
   "execution_count": 3,
   "metadata": {},
   "outputs": [
    {
     "name": "stdout",
     "output_type": "stream",
     "text": [
      "env: CUDA_VISIBLE_DEVICES=\"\"\n"
     ]
    }
   ],
   "source": [
    "%env CUDA_VISIBLE_DEVICES=\"\""
   ]
  },
  {
   "cell_type": "code",
   "execution_count": 6,
   "metadata": {},
   "outputs": [
    {
     "name": "stderr",
     "output_type": "stream",
     "text": [
      "All TF 2.0 model weights were used when initializing RobertaModel.\n",
      "\n",
      "All the weights of RobertaModel were initialized from the TF 2.0 model.\n",
      "If your task is similar to the task the model of the checkpoint was trained on, you can already use RobertaModel for predictions without further training.\n",
      "  0%|          | 0/10 [00:00<?, ?it/s]/home/ryanhausen/anaconda3/envs/democratizingdata-ml-algo/lib/python3.10/site-packages/torch/nn/functional.py:1967: UserWarning: nn.functional.sigmoid is deprecated. Use torch.sigmoid instead.\n",
      "  warnings.warn(\"nn.functional.sigmoid is deprecated. Use torch.sigmoid instead.\")\n",
      "100%|██████████| 10/10 [00:55<00:00,  5.54s/it]\n"
     ]
    },
    {
     "data": {
      "text/plain": [
       "\n",
       "        Model Evaluation:\n",
       "\n",
       "        - Run time: 57.628079652786255 seconds, avg: 5.7628079652786255 seconds per sample\n",
       "        - True Postive Count: 0, avg: 0.0 per sample\n",
       "        - Precision: 0.0\n",
       "        - Recall: 0.0\n",
       "        "
      ]
     },
     "execution_count": 6,
     "metadata": {},
     "output_type": "execute_result"
    }
   ],
   "source": [
    "model_name = \"biomed_roberta\"\n",
    "config = dict(\n",
    "    support_token_path = f\"../models/generic_model1/sub_{model_name}/embeddings/support_mask_embeddings.npy\",\n",
    "    batch_size = 16,\n",
    "    threshold = 0.7,\n",
    "    inference_progress_bar = True,\n",
    "\n",
    "    model_tokenizer_name = f\"../models/generic_model1/sub_{model_name}\",\n",
    "    model_kwargs=dict(from_tf=True),\n",
    "    tokenizer_kwargs=dict(add_prefix_space=True),\n",
    "    tokenizer_call_kwargs=dict(max_length=512, truncation=True, is_split_into_words=True),\n",
    ")\n",
    "\n",
    "_repo = repo.copy()\n",
    "_repo.df = _repo.df.iloc[:100]\n",
    "outs = em.evaluate_model(\n",
    "    _repo,\n",
    "    gm1.GenericModel1(),\n",
    "    config,\n",
    ")\n",
    "outs"
   ]
  }
 ],
 "metadata": {
  "kernelspec": {
   "display_name": "Python 3.10.8 ('democratizingdata-ml-algo')",
   "language": "python",
   "name": "python3"
  },
  "language_info": {
   "codemirror_mode": {
    "name": "ipython",
    "version": 3
   },
   "file_extension": ".py",
   "mimetype": "text/x-python",
   "name": "python",
   "nbconvert_exporter": "python",
   "pygments_lexer": "ipython3",
   "version": "3.10.8"
  },
  "orig_nbformat": 4,
  "vscode": {
   "interpreter": {
    "hash": "b3e03aa19f4cee1cca181f326aea7726af1ea307b5fcbfd54a41f945b089b370"
   }
  }
 },
 "nbformat": 4,
 "nbformat_minor": 2
}
