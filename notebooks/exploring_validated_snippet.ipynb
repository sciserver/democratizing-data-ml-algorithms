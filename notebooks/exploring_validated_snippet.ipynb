{
 "cells": [
  {
   "cell_type": "code",
   "execution_count": 2,
   "metadata": {},
   "outputs": [
    {
     "name": "stderr",
     "output_type": "stream",
     "text": [
      "2023-04-07 09:10:46.238552: I tensorflow/core/platform/cpu_feature_guard.cc:193] This TensorFlow binary is optimized with oneAPI Deep Neural Network Library (oneDNN) to use the following CPU instructions in performance-critical operations:  SSE4.1 SSE4.2 AVX AVX2 FMA\n",
      "To enable them in other operations, rebuild TensorFlow with the appropriate compiler flags.\n",
      "2023-04-07 09:10:48.688984: I tensorflow/compiler/xla/stream_executor/cuda/cuda_gpu_executor.cc:981] successful NUMA node read from SysFS had negative value (-1), but there must be at least one NUMA node, so returning NUMA node zero\n",
      "2023-04-07 09:10:48.692022: I tensorflow/compiler/xla/stream_executor/cuda/cuda_gpu_executor.cc:981] successful NUMA node read from SysFS had negative value (-1), but there must be at least one NUMA node, so returning NUMA node zero\n",
      "2023-04-07 09:10:48.802539: I tensorflow/compiler/xla/stream_executor/cuda/cuda_gpu_executor.cc:981] successful NUMA node read from SysFS had negative value (-1), but there must be at least one NUMA node, so returning NUMA node zero\n",
      "2023-04-07 09:10:48.804008: I tensorflow/compiler/xla/stream_executor/cuda/cuda_gpu_executor.cc:981] successful NUMA node read from SysFS had negative value (-1), but there must be at least one NUMA node, so returning NUMA node zero\n",
      "2023-04-07 09:10:48.804469: I tensorflow/compiler/xla/stream_executor/cuda/cuda_gpu_executor.cc:981] successful NUMA node read from SysFS had negative value (-1), but there must be at least one NUMA node, so returning NUMA node zero\n",
      "2023-04-07 09:10:48.805855: I tensorflow/compiler/xla/stream_executor/cuda/cuda_gpu_executor.cc:981] successful NUMA node read from SysFS had negative value (-1), but there must be at least one NUMA node, so returning NUMA node zero\n",
      "2023-04-07 09:10:48.806192: I tensorflow/core/common_runtime/gpu/gpu_device.cc:2006] Ignoring visible gpu device (device: 1, name: Quadro K1200, pci bus id: 0000:03:00.0, compute capability: 5.0) with core count: 4. The minimum required count is 8. You can adjust this requirement with the env var TF_MIN_GPU_MULTIPROCESSOR_COUNT.\n"
     ]
    }
   ],
   "source": [
    "import regex as re\n",
    "import pandas as pd\n",
    "import spacy\n",
    "from spacy import displacy\n",
    "\n",
    "nlp = spacy.load(\"en_core_web_sm\")  "
   ]
  },
  {
   "cell_type": "code",
   "execution_count": 3,
   "metadata": {},
   "outputs": [],
   "source": [
    "fname = \"../data/snippets/validated_snippets_run21_ncses_4.6.2023.csv\"\n",
    "\n",
    "validated_snippets = pd.read_csv(fname)"
   ]
  },
  {
   "cell_type": "code",
   "execution_count": 4,
   "metadata": {},
   "outputs": [
    {
     "data": {
      "text/html": [
       "<div>\n",
       "<style scoped>\n",
       "    .dataframe tbody tr th:only-of-type {\n",
       "        vertical-align: middle;\n",
       "    }\n",
       "\n",
       "    .dataframe tbody tr th {\n",
       "        vertical-align: top;\n",
       "    }\n",
       "\n",
       "    .dataframe thead th {\n",
       "        text-align: right;\n",
       "    }\n",
       "</style>\n",
       "<table border=\"1\" class=\"dataframe\">\n",
       "  <thead>\n",
       "    <tr style=\"text-align: right;\">\n",
       "      <th></th>\n",
       "      <th>Unnamed: 0</th>\n",
       "      <th>dyad_id</th>\n",
       "      <th>m1_score</th>\n",
       "      <th>m2_score</th>\n",
       "      <th>m3_score</th>\n",
       "      <th>m4_score</th>\n",
       "      <th>mention_candidate</th>\n",
       "      <th>snippet</th>\n",
       "    </tr>\n",
       "  </thead>\n",
       "  <tbody>\n",
       "    <tr>\n",
       "      <th>0</th>\n",
       "      <td>0</td>\n",
       "      <td>634174</td>\n",
       "      <td>0.166</td>\n",
       "      <td>NaN</td>\n",
       "      <td>0.997</td>\n",
       "      <td>NaN</td>\n",
       "      <td>schools and staffing survey</td>\n",
       "      <td>d scope of minority teacher recruitment polici...</td>\n",
       "    </tr>\n",
       "    <tr>\n",
       "      <th>1</th>\n",
       "      <td>1</td>\n",
       "      <td>634178</td>\n",
       "      <td>0.539</td>\n",
       "      <td>0.539</td>\n",
       "      <td>0.993</td>\n",
       "      <td>0.539</td>\n",
       "      <td>common core of data</td>\n",
       "      <td>r publication of this article. \\nThe offense “...</td>\n",
       "    </tr>\n",
       "    <tr>\n",
       "      <th>2</th>\n",
       "      <td>2</td>\n",
       "      <td>634242</td>\n",
       "      <td>0.661</td>\n",
       "      <td>NaN</td>\n",
       "      <td>0.998</td>\n",
       "      <td>NaN</td>\n",
       "      <td>education longitudinal study</td>\n",
       "      <td>students of varying levels of academic prepara...</td>\n",
       "    </tr>\n",
       "    <tr>\n",
       "      <th>3</th>\n",
       "      <td>3</td>\n",
       "      <td>634299</td>\n",
       "      <td>0.538</td>\n",
       "      <td>1.000</td>\n",
       "      <td>0.990</td>\n",
       "      <td>1.000</td>\n",
       "      <td>trends in international mathematics and scienc...</td>\n",
       "      <td>nsitivity of Achievement Estimation to Conditi...</td>\n",
       "    </tr>\n",
       "    <tr>\n",
       "      <th>4</th>\n",
       "      <td>4</td>\n",
       "      <td>634301</td>\n",
       "      <td>0.575</td>\n",
       "      <td>0.575</td>\n",
       "      <td>1.000</td>\n",
       "      <td>0.575</td>\n",
       "      <td>nces common core of data</td>\n",
       "      <td>ym districts (denoted by asterisks) have round...</td>\n",
       "    </tr>\n",
       "  </tbody>\n",
       "</table>\n",
       "</div>"
      ],
      "text/plain": [
       "   Unnamed: 0  dyad_id  m1_score  m2_score  m3_score  m4_score  \\\n",
       "0           0   634174     0.166       NaN     0.997       NaN   \n",
       "1           1   634178     0.539     0.539     0.993     0.539   \n",
       "2           2   634242     0.661       NaN     0.998       NaN   \n",
       "3           3   634299     0.538     1.000     0.990     1.000   \n",
       "4           4   634301     0.575     0.575     1.000     0.575   \n",
       "\n",
       "                                   mention_candidate  \\\n",
       "0                        schools and staffing survey   \n",
       "1                                common core of data   \n",
       "2                       education longitudinal study   \n",
       "3  trends in international mathematics and scienc...   \n",
       "4                           nces common core of data   \n",
       "\n",
       "                                             snippet  \n",
       "0  d scope of minority teacher recruitment polici...  \n",
       "1  r publication of this article. \\nThe offense “...  \n",
       "2  students of varying levels of academic prepara...  \n",
       "3  nsitivity of Achievement Estimation to Conditi...  \n",
       "4  ym districts (denoted by asterisks) have round...  "
      ]
     },
     "execution_count": 4,
     "metadata": {},
     "output_type": "execute_result"
    }
   ],
   "source": [
    "validated_snippets.head()"
   ]
  },
  {
   "cell_type": "code",
   "execution_count": 5,
   "metadata": {},
   "outputs": [
    {
     "data": {
      "text/plain": [
       "<AxesSubplot: >"
      ]
     },
     "execution_count": 5,
     "metadata": {},
     "output_type": "execute_result"
    },
    {
     "data": {
      "image/png": "[encoded data removed]",
      "text/plain": [
       "<Figure size 640x480 with 1 Axes>"
      ]
     },
     "metadata": {},
     "output_type": "display_data"
    }
   ],
   "source": [
    "validated_snippets[\"snippet\"].apply(len).hist(log=True)"
   ]
  },
  {
   "cell_type": "code",
   "execution_count": 6,
   "metadata": {},
   "outputs": [
    {
     "data": {
      "text/plain": [
       "<AxesSubplot: >"
      ]
     },
     "execution_count": 6,
     "metadata": {},
     "output_type": "execute_result"
    },
    {
     "data": {
      "image/png": "[encoded data removed]",
      "text/plain": [
       "<Figure size 640x480 with 1 Axes>"
      ]
     },
     "metadata": {},
     "output_type": "display_data"
    }
   ],
   "source": [
    "validated_snippets[\"snippet\"].apply(lambda x: len(x.split())).hist(log=True)"
   ]
  },
  {
   "cell_type": "markdown",
   "metadata": {},
   "source": [
    "We need to transform snippets into the three kinds of snippets that models \n",
    "can use: NER, classification, and masked LM."
   ]
  },
  {
   "cell_type": "code",
   "execution_count": 7,
   "metadata": {},
   "outputs": [],
   "source": [
    "def simple_existence_check(row:pd.DataFrame) -> bool:\n",
    "    \"\"\"Check if a snippet exists in a row of a dataframe\"\"\"\n",
    "    return row[\"mention_candidate\"] in row[\"snippet\"].lower()"
   ]
  },
  {
   "cell_type": "code",
   "execution_count": 8,
   "metadata": {},
   "outputs": [
    {
     "name": "stderr",
     "output_type": "stream",
     "text": [
      "<__array_function__ internals>:200: RuntimeWarning: Converting input from bool to <class 'numpy.uint8'> for compatibility.\n"
     ]
    },
    {
     "data": {
      "text/plain": [
       "<AxesSubplot: >"
      ]
     },
     "execution_count": 8,
     "metadata": {},
     "output_type": "execute_result"
    },
    {
     "data": {
      "image/png": "[encoded data removed]",
      "text/plain": [
       "<Figure size 640x480 with 1 Axes>"
      ]
     },
     "metadata": {},
     "output_type": "display_data"
    }
   ],
   "source": [
    "validated_snippets[\"simple_match\"] = validated_snippets.apply(simple_existence_check, axis=1)\n",
    "validated_snippets[\"simple_match\"].hist(log=True)"
   ]
  },
  {
   "attachments": {},
   "cell_type": "markdown",
   "metadata": {},
   "source": [
    "All labels can be found using simple string matching so we'll use that to \n",
    "generate the labels.\n",
    "\n",
    "\n",
    "### NER"
   ]
  },
  {
   "cell_type": "code",
   "execution_count": 9,
   "metadata": {},
   "outputs": [],
   "source": [
    "from typing import List\n",
    "\n",
    "\n",
    "def tokenize(row:pd.DataFrame) -> List[str]:\n",
    "    return list(map(lambda s: str(s).strip().lower(), nlp(re.subn(\n",
    "        r\"[\\\\][\\\\n]\",\n",
    "        \" \", \n",
    "        row[\"snippet\"],\n",
    "    )[0]).doc))\n",
    "\n",
    "validated_snippets[\"tokens\"] = validated_snippets.apply(tokenize, axis=1)"
   ]
  },
  {
   "cell_type": "code",
   "execution_count": 21,
   "metadata": {},
   "outputs": [],
   "source": [
    "def build_ner_label(row:pd.DataFrame) -> str:\n",
    "    tokens = row[\"tokens\"]\n",
    "    lbl_tokens = row[\"mention_candidate\"].split()\n",
    "    lbl = [\"B-DAT\"] + [\"I-DAT\"] * (len(lbl_tokens) - 1)\n",
    "    token_lbls = [\"O\"] * len(tokens)\n",
    "\n",
    "    valid = True\n",
    "    try:\n",
    "        start = tokens.index(lbl_tokens[0])\n",
    "        token_lbls[start:start + len(lbl_tokens)] = lbl\n",
    "    except Exception as e:\n",
    "        valid = False\n",
    "\n",
    "    if valid:\n",
    "        return \" \".join(token_lbls)\n",
    "    else:\n",
    "        return \"\"\n",
    "\n",
    "validated_snippets[\"ner_label\"] = validated_snippets.apply(build_ner_label, axis=1)"
   ]
  },
  {
   "cell_type": "code",
   "execution_count": 11,
   "metadata": {},
   "outputs": [
    {
     "data": {
      "text/html": [
       "<span class=\"tex2jax_ignore\"><div class=\"entities\" style=\"line-height: 2.5; direction: ltr\">o be administered in one class period of approximately 45 minutes . it comprised 37 items ( 35 multiple - choice and 2 open - ended ) including released items from the national assessment of educational progress ( 1990 1992 1996 ) and the \n",
       "<mark class=\"entity\" style=\"background: linear-gradient(90deg, #aa9cfc, #fc9ce7); padding: 0.45em 0.6em; margin: 0 0.25em; line-height: 1; border-radius: 0.35em;\">\n",
       "    trends in international mathematics and science study \n",
       "    <span style=\"font-size: 0.8em; font-weight: bold; line-height: 1; border-radius: 0.35em; vertical-align: middle; margin-left: 0.5rem\">Dataset</span>\n",
       "</mark>\n",
       "( 1995 ) as well as released items from states ’ standardized math tests . the test items addressed math standards of number sense / computation and algebra and also included</div></span>"
      ],
      "text/plain": [
       "<IPython.core.display.HTML object>"
      ]
     },
     "metadata": {},
     "output_type": "display_data"
    }
   ],
   "source": [
    "\n",
    "\n",
    "from typing import Dict, List, Tuple, Union\n",
    "\n",
    "def extract_entities_for_visualization(\n",
    "    text: List[str], ner_tags: List[str]\n",
    ") -> List[Dict[str, Union[int, str]]]:\n",
    "    \"\"\"Extracts entities from a list of tokens and their corresponding NER tags.\n",
    "    Args:\n",
    "        text (List[str]): The list of tokens.\n",
    "        ner_tags (List[str]): The list of NER tags.\n",
    "        Returns:\n",
    "            List[Dict[str, Any]]: A list of entities, each entity is a dictionary\n",
    "                                  with the following keys:\n",
    "                                    - start: The start index of the entity.\n",
    "                                    - end: The end index of the entity.\n",
    "                                    - label: The label of the entity.\n",
    "    \"\"\"\n",
    "    entities = []\n",
    "    start = 0\n",
    "    end = 0\n",
    "    in_ent = False\n",
    "    for token, tag in zip(text, ner_tags):\n",
    "        token_length = len(token) + 1  # plus a space\n",
    "        if tag in [\"B-DAT\", \"I-DAT\"]:\n",
    "            in_ent = True\n",
    "            end += token_length\n",
    "        elif tag == \"O\" and in_ent:\n",
    "            entities.append({\"start\": start, \"end\": end, \"label\": \"Dataset\"})\n",
    "            in_ent = False\n",
    "            start = end\n",
    "        else:\n",
    "            # just an O tag\n",
    "            start += token_length\n",
    "            end = start\n",
    "\n",
    "    return entities\n",
    "\n",
    "\n",
    "def visualize_ner_tags(text: str, ner_tags: List[str]) -> Tuple[str, str, str]:\n",
    "    \"\"\"Visualize NER tags in a text.\"\"\"\n",
    "\n",
    "    tokens = list(map(\n",
    "            lambda s: str(s).strip().lower(), \n",
    "            nlp(re.subn(\n",
    "                r\"[\\\\][\\\\n]\",\n",
    "                \" \", \n",
    "                text,\n",
    "            )[0]).doc))\n",
    "\n",
    "    entities = extract_entities_for_visualization(\n",
    "        tokens, \n",
    "        ner_tags\n",
    "    )\n",
    "\n",
    "    ex = [{\"text\": \" \".join(tokens), \"ents\": entities, \"title\": None}]\n",
    "\n",
    "    displacy.render(\n",
    "        ex,\n",
    "        style=\"ent\",\n",
    "        manual=True,\n",
    "        options={\"colors\": {\"Dataset\": \"linear-gradient(90deg, #aa9cfc, #fc9ce7)\"}},\n",
    "    )\n",
    "\n",
    "idx = 30\n",
    "visualize_ner_tags(\n",
    "    text=validated_snippets[\"snippet\"].iloc[idx],\n",
    "    ner_tags=validated_snippets[\"ner_label\"].iloc[idx].split(),\n",
    ")"
   ]
  },
  {
   "attachments": {},
   "cell_type": "markdown",
   "metadata": {},
   "source": [
    "### Classification"
   ]
  },
  {
   "cell_type": "code",
   "execution_count": 12,
   "metadata": {},
   "outputs": [
    {
     "data": {
      "text/html": [
       "<div>\n",
       "<style scoped>\n",
       "    .dataframe tbody tr th:only-of-type {\n",
       "        vertical-align: middle;\n",
       "    }\n",
       "\n",
       "    .dataframe tbody tr th {\n",
       "        vertical-align: top;\n",
       "    }\n",
       "\n",
       "    .dataframe thead th {\n",
       "        text-align: right;\n",
       "    }\n",
       "</style>\n",
       "<table border=\"1\" class=\"dataframe\">\n",
       "  <thead>\n",
       "    <tr style=\"text-align: right;\">\n",
       "      <th></th>\n",
       "      <th>Unnamed: 0</th>\n",
       "      <th>dyad_id</th>\n",
       "      <th>m1_score</th>\n",
       "      <th>m2_score</th>\n",
       "      <th>m3_score</th>\n",
       "      <th>m4_score</th>\n",
       "      <th>mention_candidate</th>\n",
       "      <th>snippet</th>\n",
       "      <th>simple_match</th>\n",
       "      <th>tokens</th>\n",
       "      <th>ner_label</th>\n",
       "    </tr>\n",
       "  </thead>\n",
       "  <tbody>\n",
       "    <tr>\n",
       "      <th>0</th>\n",
       "      <td>0</td>\n",
       "      <td>634174</td>\n",
       "      <td>0.166</td>\n",
       "      <td>NaN</td>\n",
       "      <td>0.997</td>\n",
       "      <td>NaN</td>\n",
       "      <td>schools and staffing survey</td>\n",
       "      <td>d scope of minority teacher recruitment polici...</td>\n",
       "      <td>True</td>\n",
       "      <td>[d, scope, of, minority, teacher, recruitment,...</td>\n",
       "      <td>O O O O O O O O O O O O O O O O O O O O O O O ...</td>\n",
       "    </tr>\n",
       "    <tr>\n",
       "      <th>1</th>\n",
       "      <td>1</td>\n",
       "      <td>634178</td>\n",
       "      <td>0.539</td>\n",
       "      <td>0.539</td>\n",
       "      <td>0.993</td>\n",
       "      <td>0.539</td>\n",
       "      <td>common core of data</td>\n",
       "      <td>r publication of this article. \\nThe offense “...</td>\n",
       "      <td>True</td>\n",
       "      <td>[r, publication, of, this, article, ., , the, ...</td>\n",
       "      <td>O O O O O O O O O O O O O O O O O O O O O O O ...</td>\n",
       "    </tr>\n",
       "    <tr>\n",
       "      <th>2</th>\n",
       "      <td>2</td>\n",
       "      <td>634242</td>\n",
       "      <td>0.661</td>\n",
       "      <td>NaN</td>\n",
       "      <td>0.998</td>\n",
       "      <td>NaN</td>\n",
       "      <td>education longitudinal study</td>\n",
       "      <td>students of varying levels of academic prepara...</td>\n",
       "      <td>True</td>\n",
       "      <td>[students, of, varying, levels, of, academic, ...</td>\n",
       "      <td>O O O O O O O O O O O O O O O O O O O O O O O ...</td>\n",
       "    </tr>\n",
       "    <tr>\n",
       "      <th>3</th>\n",
       "      <td>3</td>\n",
       "      <td>634299</td>\n",
       "      <td>0.538</td>\n",
       "      <td>1.000</td>\n",
       "      <td>0.990</td>\n",
       "      <td>1.000</td>\n",
       "      <td>trends in international mathematics and scienc...</td>\n",
       "      <td>nsitivity of Achievement Estimation to Conditi...</td>\n",
       "      <td>True</td>\n",
       "      <td>[nsitivity, of, achievement, estimation, to, c...</td>\n",
       "      <td>O O O O O O O O O O O O O O O O O O O O O O O ...</td>\n",
       "    </tr>\n",
       "    <tr>\n",
       "      <th>4</th>\n",
       "      <td>4</td>\n",
       "      <td>634301</td>\n",
       "      <td>0.575</td>\n",
       "      <td>0.575</td>\n",
       "      <td>1.000</td>\n",
       "      <td>0.575</td>\n",
       "      <td>nces common core of data</td>\n",
       "      <td>ym districts (denoted by asterisks) have round...</td>\n",
       "      <td>True</td>\n",
       "      <td>[ym, districts, (, denoted, by, asterisks, ), ...</td>\n",
       "      <td>O O O O O O O O O O O O O O O O O O O O O O O ...</td>\n",
       "    </tr>\n",
       "    <tr>\n",
       "      <th>...</th>\n",
       "      <td>...</td>\n",
       "      <td>...</td>\n",
       "      <td>...</td>\n",
       "      <td>...</td>\n",
       "      <td>...</td>\n",
       "      <td>...</td>\n",
       "      <td>...</td>\n",
       "      <td>...</td>\n",
       "      <td>...</td>\n",
       "      <td>...</td>\n",
       "      <td>...</td>\n",
       "    </tr>\n",
       "    <tr>\n",
       "      <th>3877</th>\n",
       "      <td>3877</td>\n",
       "      <td>890878</td>\n",
       "      <td>0.520</td>\n",
       "      <td>0.609</td>\n",
       "      <td>0.992</td>\n",
       "      <td>0.609</td>\n",
       "      <td>beginning postsecondary students longitudinal ...</td>\n",
       "      <td>ents switch meta-majors what type of major do ...</td>\n",
       "      <td>True</td>\n",
       "      <td>[ents, switch, meta, -, majors, what, type, of...</td>\n",
       "      <td>O O O O O O O O O O O O O O O O O O O O O O O ...</td>\n",
       "    </tr>\n",
       "    <tr>\n",
       "      <th>3878</th>\n",
       "      <td>3878</td>\n",
       "      <td>890936</td>\n",
       "      <td>0.718</td>\n",
       "      <td>0.718</td>\n",
       "      <td>0.998</td>\n",
       "      <td>0.718</td>\n",
       "      <td>education longitudinal study</td>\n",
       "      <td>1 -0.1\\n0.0 0.0 0.0\\n** ** **\\n0.0 0.0 0.0\\n0....</td>\n",
       "      <td>True</td>\n",
       "      <td>[1, -0.1, 0.0, 0.0, 0.0, *, *, *, *, *, *, 0.0...</td>\n",
       "      <td>O O O O O O O O O O O O O O O O O O O O O O O ...</td>\n",
       "    </tr>\n",
       "    <tr>\n",
       "      <th>3879</th>\n",
       "      <td>3879</td>\n",
       "      <td>891062</td>\n",
       "      <td>0.427</td>\n",
       "      <td>0.373</td>\n",
       "      <td>NaN</td>\n",
       "      <td>0.373</td>\n",
       "      <td>private school universe survey</td>\n",
       "      <td>n the school supplement collected from the Nat...</td>\n",
       "      <td>True</td>\n",
       "      <td>[n, the, school, supplement, collected, from, ...</td>\n",
       "      <td>O O O O O O O O O O O O O O O O O O O O O O O ...</td>\n",
       "    </tr>\n",
       "    <tr>\n",
       "      <th>3880</th>\n",
       "      <td>3880</td>\n",
       "      <td>891080</td>\n",
       "      <td>0.539</td>\n",
       "      <td>0.615</td>\n",
       "      <td>1.000</td>\n",
       "      <td>0.615</td>\n",
       "      <td>national center for education statistics commo...</td>\n",
       "      <td>2012 to 2013 school year; and West Virginia w...</td>\n",
       "      <td>True</td>\n",
       "      <td>[, 2012, to, 2013, school, year, ;, and, west,...</td>\n",
       "      <td>O O O O O O O O O O O O O O O O O O O O O O O ...</td>\n",
       "    </tr>\n",
       "    <tr>\n",
       "      <th>3881</th>\n",
       "      <td>3881</td>\n",
       "      <td>891088</td>\n",
       "      <td>0.611</td>\n",
       "      <td>NaN</td>\n",
       "      <td>0.998</td>\n",
       "      <td>NaN</td>\n",
       "      <td>early childhood longitudinal study</td>\n",
       "      <td>ure had lowered interpersonal skills self-cont...</td>\n",
       "      <td>True</td>\n",
       "      <td>[ure, had, lowered, interpersonal, skills, sel...</td>\n",
       "      <td>O O O O O O O O O O O O O O O O O O O O O O O ...</td>\n",
       "    </tr>\n",
       "  </tbody>\n",
       "</table>\n",
       "<p>3882 rows × 11 columns</p>\n",
       "</div>"
      ],
      "text/plain": [
       "      Unnamed: 0  dyad_id  m1_score  m2_score  m3_score  m4_score  \\\n",
       "0              0   634174     0.166       NaN     0.997       NaN   \n",
       "1              1   634178     0.539     0.539     0.993     0.539   \n",
       "2              2   634242     0.661       NaN     0.998       NaN   \n",
       "3              3   634299     0.538     1.000     0.990     1.000   \n",
       "4              4   634301     0.575     0.575     1.000     0.575   \n",
       "...          ...      ...       ...       ...       ...       ...   \n",
       "3877        3877   890878     0.520     0.609     0.992     0.609   \n",
       "3878        3878   890936     0.718     0.718     0.998     0.718   \n",
       "3879        3879   891062     0.427     0.373       NaN     0.373   \n",
       "3880        3880   891080     0.539     0.615     1.000     0.615   \n",
       "3881        3881   891088     0.611       NaN     0.998       NaN   \n",
       "\n",
       "                                      mention_candidate  \\\n",
       "0                           schools and staffing survey   \n",
       "1                                   common core of data   \n",
       "2                          education longitudinal study   \n",
       "3     trends in international mathematics and scienc...   \n",
       "4                              nces common core of data   \n",
       "...                                                 ...   \n",
       "3877  beginning postsecondary students longitudinal ...   \n",
       "3878                       education longitudinal study   \n",
       "3879                     private school universe survey   \n",
       "3880  national center for education statistics commo...   \n",
       "3881                 early childhood longitudinal study   \n",
       "\n",
       "                                                snippet  simple_match  \\\n",
       "0     d scope of minority teacher recruitment polici...          True   \n",
       "1     r publication of this article. \\nThe offense “...          True   \n",
       "2     students of varying levels of academic prepara...          True   \n",
       "3     nsitivity of Achievement Estimation to Conditi...          True   \n",
       "4     ym districts (denoted by asterisks) have round...          True   \n",
       "...                                                 ...           ...   \n",
       "3877  ents switch meta-majors what type of major do ...          True   \n",
       "3878  1 -0.1\\n0.0 0.0 0.0\\n** ** **\\n0.0 0.0 0.0\\n0....          True   \n",
       "3879  n the school supplement collected from the Nat...          True   \n",
       "3880   2012 to 2013 school year; and West Virginia w...          True   \n",
       "3881  ure had lowered interpersonal skills self-cont...          True   \n",
       "\n",
       "                                                 tokens  \\\n",
       "0     [d, scope, of, minority, teacher, recruitment,...   \n",
       "1     [r, publication, of, this, article, ., , the, ...   \n",
       "2     [students, of, varying, levels, of, academic, ...   \n",
       "3     [nsitivity, of, achievement, estimation, to, c...   \n",
       "4     [ym, districts, (, denoted, by, asterisks, ), ...   \n",
       "...                                                 ...   \n",
       "3877  [ents, switch, meta, -, majors, what, type, of...   \n",
       "3878  [1, -0.1, 0.0, 0.0, 0.0, *, *, *, *, *, *, 0.0...   \n",
       "3879  [n, the, school, supplement, collected, from, ...   \n",
       "3880  [, 2012, to, 2013, school, year, ;, and, west,...   \n",
       "3881  [ure, had, lowered, interpersonal, skills, sel...   \n",
       "\n",
       "                                              ner_label  \n",
       "0     O O O O O O O O O O O O O O O O O O O O O O O ...  \n",
       "1     O O O O O O O O O O O O O O O O O O O O O O O ...  \n",
       "2     O O O O O O O O O O O O O O O O O O O O O O O ...  \n",
       "3     O O O O O O O O O O O O O O O O O O O O O O O ...  \n",
       "4     O O O O O O O O O O O O O O O O O O O O O O O ...  \n",
       "...                                                 ...  \n",
       "3877  O O O O O O O O O O O O O O O O O O O O O O O ...  \n",
       "3878  O O O O O O O O O O O O O O O O O O O O O O O ...  \n",
       "3879  O O O O O O O O O O O O O O O O O O O O O O O ...  \n",
       "3880  O O O O O O O O O O O O O O O O O O O O O O O ...  \n",
       "3881  O O O O O O O O O O O O O O O O O O O O O O O ...  \n",
       "\n",
       "[3882 rows x 11 columns]"
      ]
     },
     "execution_count": 12,
     "metadata": {},
     "output_type": "execute_result"
    }
   ],
   "source": [
    "validated_snippets[\"label\"] = 1.0\n"
   ]
  },
  {
   "attachments": {},
   "cell_type": "markdown",
   "metadata": {},
   "source": [
    "### Masked LM"
   ]
  },
  {
   "cell_type": "code",
   "execution_count": 22,
   "metadata": {},
   "outputs": [
    {
     "data": {
      "text/plain": [
       "0       None\n",
       "1       None\n",
       "2       None\n",
       "3       None\n",
       "4       None\n",
       "        ... \n",
       "3877    None\n",
       "3878    None\n",
       "3879    None\n",
       "3880    None\n",
       "3881    None\n",
       "Length: 3882, dtype: object"
      ]
     },
     "execution_count": 22,
     "metadata": {},
     "output_type": "execute_result"
    }
   ],
   "source": [
    "def masked_lm_label(row:pd.DataFrame) -> str:\n",
    "    ner = row[\"ner_label\"]\n",
    "    return \" \"\n",
    "\n",
    "validated_snippets.apply(masked_lm_label, axis=1)"
   ]
  },
  {
   "cell_type": "code",
   "execution_count": null,
   "metadata": {},
   "outputs": [],
   "source": []
  },
  {
   "cell_type": "code",
   "execution_count": null,
   "metadata": {},
   "outputs": [],
   "source": []
  },
  {
   "cell_type": "code",
   "execution_count": null,
   "metadata": {},
   "outputs": [],
   "source": []
  }
 ],
 "metadata": {
  "kernelspec": {
   "display_name": "democratizing-data-ml-algorithms",
   "language": "python",
   "name": "python3"
  },
  "language_info": {
   "codemirror_mode": {
    "name": "ipython",
    "version": 3
   },
   "file_extension": ".py",
   "mimetype": "text/x-python",
   "name": "python",
   "nbconvert_exporter": "python",
   "pygments_lexer": "ipython3",
   "version": "3.10.8"
  },
  "orig_nbformat": 4
 },
 "nbformat": 4,
 "nbformat_minor": 2
}
